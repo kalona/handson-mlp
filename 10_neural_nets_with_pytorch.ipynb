{
 "cells": [
  {
   "cell_type": "markdown",
   "metadata": {},
   "source": [
    "**Chapter 10 – Building Neural Networks with PyTorch**"
   ]
  },
  {
   "cell_type": "markdown",
   "metadata": {},
   "source": [
    "_This notebook contains all the sample code and solutions to the exercises in chapter 10._"
   ]
  },
  {
   "cell_type": "markdown",
   "metadata": {},
   "source": [
    "<table align=\"left\">\n",
    "  <td>\n",
    "    <a href=\"https://colab.research.google.com/github/ageron/handson-mlp/blob/main/10_neural_nets_with_pytorch.ipynb\" target=\"_parent\"><img src=\"https://colab.research.google.com/assets/colab-badge.svg\" alt=\"Open In Colab\"/></a>\n",
    "  </td>\n",
    "  <td>\n",
    "    <a target=\"_blank\" href=\"https://kaggle.com/kernels/welcome?src=https://github.com/ageron/handson-mlp/blob/main/10_neural_nets_with_pytorch.ipynb\"><img src=\"https://kaggle.com/static/images/open-in-kaggle.svg\" /></a>\n",
    "  </td>\n",
    "</table>"
   ]
  },
  {
   "cell_type": "markdown",
   "metadata": {
    "tags": []
   },
   "source": [
    "# Setup"
   ]
  },
  {
   "cell_type": "markdown",
   "metadata": {},
   "source": [
    "This project requires Python 3.10 or above:"
   ]
  },
  {
   "cell_type": "code",
   "execution_count": 1,
   "metadata": {},
   "outputs": [],
   "source": [
    "import sys\n",
    "\n",
    "assert sys.version_info >= (3, 10)"
   ]
  },
  {
   "cell_type": "markdown",
   "metadata": {},
   "source": [
    "It also requires Scikit-Learn ≥ 1.5.2:"
   ]
  },
  {
   "cell_type": "code",
   "execution_count": 2,
   "metadata": {},
   "outputs": [],
   "source": [
    "from packaging.version import Version\n",
    "import sklearn\n",
    "\n",
    "assert Version(sklearn.__version__) >= Version(\"1.5.2\")"
   ]
  },
  {
   "cell_type": "markdown",
   "metadata": {},
   "source": [
    "If using Colab, a few libraries are not pre-installed so we must install them manually:"
   ]
  },
  {
   "cell_type": "code",
   "execution_count": 3,
   "metadata": {},
   "outputs": [],
   "source": [
    "if \"google.colab\" in sys.modules:\n",
    "    %pip install -q optuna torchmetrics"
   ]
  },
  {
   "cell_type": "markdown",
   "metadata": {},
   "source": [
    "And we also need PyTorch ≥ 2.4.0:"
   ]
  },
  {
   "cell_type": "code",
   "execution_count": 4,
   "metadata": {},
   "outputs": [],
   "source": [
    "import torch\n",
    "\n",
    "assert Version(torch.__version__) >= Version(\"2.4.0\")"
   ]
  },
  {
   "cell_type": "markdown",
   "metadata": {},
   "source": [
    "As we did in previous chapters, let's define the default font sizes to make the figures prettier:"
   ]
  },
  {
   "cell_type": "code",
   "execution_count": 5,
   "metadata": {},
   "outputs": [],
   "source": [
    "import matplotlib.pyplot as plt\n",
    "\n",
    "plt.rc('font', size=14)\n",
    "plt.rc('axes', labelsize=14, titlesize=14)\n",
    "plt.rc('legend', fontsize=14)\n",
    "plt.rc('xtick', labelsize=10)\n",
    "plt.rc('ytick', labelsize=10)"
   ]
  },
  {
   "cell_type": "markdown",
   "metadata": {},
   "source": [
    "# PyTorch Fundamentals\n",
    "## PyTorch Tensors"
   ]
  },
  {
   "cell_type": "code",
   "execution_count": 6,
   "metadata": {},
   "outputs": [
    {
     "data": {
      "text/plain": [
       "tensor([[1., 4., 7.],\n",
       "        [2., 3., 6.]])"
      ]
     },
     "execution_count": 6,
     "metadata": {},
     "output_type": "execute_result"
    }
   ],
   "source": [
    "import torch\n",
    "\n",
    "X = torch.tensor([[1.0, 4.0, 7.0], [2.0, 3.0, 6.0]])\n",
    "X"
   ]
  },
  {
   "cell_type": "code",
   "execution_count": 7,
   "metadata": {},
   "outputs": [
    {
     "data": {
      "text/plain": [
       "torch.Size([2, 3])"
      ]
     },
     "execution_count": 7,
     "metadata": {},
     "output_type": "execute_result"
    }
   ],
   "source": [
    "X.shape"
   ]
  },
  {
   "cell_type": "code",
   "execution_count": 8,
   "metadata": {},
   "outputs": [
    {
     "data": {
      "text/plain": [
       "torch.float32"
      ]
     },
     "execution_count": 8,
     "metadata": {},
     "output_type": "execute_result"
    }
   ],
   "source": [
    "X.dtype"
   ]
  },
  {
   "cell_type": "code",
   "execution_count": 9,
   "metadata": {},
   "outputs": [
    {
     "data": {
      "text/plain": [
       "tensor(4.)"
      ]
     },
     "execution_count": 9,
     "metadata": {},
     "output_type": "execute_result"
    }
   ],
   "source": [
    "X[0, 1]"
   ]
  },
  {
   "cell_type": "code",
   "execution_count": 10,
   "metadata": {},
   "outputs": [
    {
     "data": {
      "text/plain": [
       "tensor([4., 3.])"
      ]
     },
     "execution_count": 10,
     "metadata": {},
     "output_type": "execute_result"
    }
   ],
   "source": [
    "X[:, 1]"
   ]
  },
  {
   "cell_type": "code",
   "execution_count": 11,
   "metadata": {
    "scrolled": true
   },
   "outputs": [
    {
     "data": {
      "text/plain": [
       "tensor([[20., 50., 80.],\n",
       "        [30., 40., 70.]])"
      ]
     },
     "execution_count": 11,
     "metadata": {},
     "output_type": "execute_result"
    }
   ],
   "source": [
    "10 * (X + 1.0)  # item-wise addition and multiplication"
   ]
  },
  {
   "cell_type": "code",
   "execution_count": 12,
   "metadata": {},
   "outputs": [
    {
     "data": {
      "text/plain": [
       "tensor([[   2.7183,   54.5982, 1096.6332],\n",
       "        [   7.3891,   20.0855,  403.4288]])"
      ]
     },
     "execution_count": 12,
     "metadata": {},
     "output_type": "execute_result"
    }
   ],
   "source": [
    "X.exp()"
   ]
  },
  {
   "cell_type": "code",
   "execution_count": 13,
   "metadata": {},
   "outputs": [
    {
     "data": {
      "text/plain": [
       "tensor(3.8333)"
      ]
     },
     "execution_count": 13,
     "metadata": {},
     "output_type": "execute_result"
    }
   ],
   "source": [
    "X.mean()"
   ]
  },
  {
   "cell_type": "code",
   "execution_count": 14,
   "metadata": {},
   "outputs": [
    {
     "data": {
      "text/plain": [
       "torch.return_types.max(\n",
       "values=tensor([2., 4., 7.]),\n",
       "indices=tensor([1, 0, 0]))"
      ]
     },
     "execution_count": 14,
     "metadata": {},
     "output_type": "execute_result"
    }
   ],
   "source": [
    "X.max(dim=0)"
   ]
  },
  {
   "cell_type": "code",
   "execution_count": 15,
   "metadata": {},
   "outputs": [
    {
     "data": {
      "text/plain": [
       "tensor([[66., 56.],\n",
       "        [56., 49.]])"
      ]
     },
     "execution_count": 15,
     "metadata": {},
     "output_type": "execute_result"
    }
   ],
   "source": [
    "X @ X.T"
   ]
  },
  {
   "cell_type": "code",
   "execution_count": 16,
   "metadata": {},
   "outputs": [
    {
     "data": {
      "text/plain": [
       "array([[1., 4., 7.],\n",
       "       [2., 3., 6.]], dtype=float32)"
      ]
     },
     "execution_count": 16,
     "metadata": {},
     "output_type": "execute_result"
    }
   ],
   "source": [
    "import numpy as np\n",
    "\n",
    "X.numpy()"
   ]
  },
  {
   "cell_type": "code",
   "execution_count": 17,
   "metadata": {},
   "outputs": [
    {
     "data": {
      "text/plain": [
       "tensor([[1., 4., 7.],\n",
       "        [2., 3., 6.]], dtype=torch.float64)"
      ]
     },
     "execution_count": 17,
     "metadata": {},
     "output_type": "execute_result"
    }
   ],
   "source": [
    "torch.tensor(np.array([[1., 4., 7.], [2., 3., 6.]]))"
   ]
  },
  {
   "cell_type": "code",
   "execution_count": 18,
   "metadata": {},
   "outputs": [
    {
     "data": {
      "text/plain": [
       "tensor([[1., 4., 7.],\n",
       "        [2., 3., 6.]])"
      ]
     },
     "execution_count": 18,
     "metadata": {},
     "output_type": "execute_result"
    }
   ],
   "source": [
    "torch.tensor(np.array([[1., 4., 7.], [2., 3., 6.]]), dtype=torch.float32)"
   ]
  },
  {
   "cell_type": "code",
   "execution_count": 19,
   "metadata": {},
   "outputs": [
    {
     "data": {
      "text/plain": [
       "tensor([[1., 4., 7.],\n",
       "        [2., 3., 6.]])"
      ]
     },
     "execution_count": 19,
     "metadata": {},
     "output_type": "execute_result"
    }
   ],
   "source": [
    "torch.FloatTensor(np.array([[1., 4., 7.], [2., 3., 6]]))"
   ]
  },
  {
   "cell_type": "code",
   "execution_count": 20,
   "metadata": {},
   "outputs": [
    {
     "data": {
      "text/plain": [
       "tensor([[ 1., 88.,  7.],\n",
       "        [ 2.,  3.,  6.]], dtype=torch.float64)"
      ]
     },
     "execution_count": 20,
     "metadata": {},
     "output_type": "execute_result"
    }
   ],
   "source": [
    "# extra code: demonstrate torch.from_numpy()\n",
    "X2_np = np.array([[1., 4., 7.], [2., 3., 6]])\n",
    "X2 = torch.from_numpy(X2_np)  # X2_np and X2 share the same data in memory\n",
    "X2_np[0, 1] = 88\n",
    "X2"
   ]
  },
  {
   "cell_type": "code",
   "execution_count": 21,
   "metadata": {},
   "outputs": [
    {
     "data": {
      "text/plain": [
       "tensor([[  1., -99.,   7.],\n",
       "        [  2., -99.,   6.]])"
      ]
     },
     "execution_count": 21,
     "metadata": {},
     "output_type": "execute_result"
    }
   ],
   "source": [
    "X[:, 1] = -99\n",
    "X"
   ]
  },
  {
   "cell_type": "code",
   "execution_count": 22,
   "metadata": {},
   "outputs": [
    {
     "data": {
      "text/plain": [
       "tensor([[1., 0., 7.],\n",
       "        [2., 0., 6.]])"
      ]
     },
     "execution_count": 22,
     "metadata": {},
     "output_type": "execute_result"
    }
   ],
   "source": [
    "X.relu_()\n",
    "X"
   ]
  },
  {
   "cell_type": "markdown",
   "metadata": {},
   "source": [
    "PyTorch tensors really resemble NumPy arrays. In fact, they have over 200 common functions!"
   ]
  },
  {
   "cell_type": "code",
   "execution_count": 23,
   "metadata": {},
   "outputs": [
    {
     "data": {
      "text/plain": [
       "'__getattr__, abs, absolute, acos, acosh, add, all, allclose, amax, amin, angle, any, arange, arccos, arccosh, arcsin, arcsinh, arctan, arctan2, arctanh, argmax, argmin, argsort, argwhere, asarray, asin, asinh, atan, atan2, atanh, atleast_1d, atleast_2d, atleast_3d, bincount, bitwise_and, bitwise_left_shift, bitwise_not, bitwise_or, bitwise_right_shift, bitwise_xor, broadcast_shapes, broadcast_to, can_cast, ceil, clip, column_stack, concat, concatenate, conj, copysign, corrcoef, cos, cosh, count_nonzero, cov, cross, cumprod, cumsum, deg2rad, diag, diagflat, diagonal, diff, divide, dot, dsplit, dstack, dtype, einsum, empty, empty_like, equal, exp, exp2, expm1, eye, finfo, fix, flip, fliplr, flipud, float_power, floor, floor_divide, fmax, fmin, fmod, frexp, from_dlpack, frombuffer, full, full_like, gcd, gradient, greater, greater_equal, heaviside, histogram, histogramdd, hsplit, hstack, hypot, i0, iinfo, imag, inner, isclose, isfinite, isin, isinf, isnan, isneginf, isposinf, isreal, kron, lcm, ldexp, less, less_equal, linspace, load, log, log10, log1p, log2, logaddexp, logaddexp2, logical_and, logical_not, logical_or, logical_xor, logspace, matmul, max, maximum, mean, median, meshgrid, min, minimum, moveaxis, multiply, nan_to_num, nanmean, nanmedian, nanquantile, nansum, negative, nextafter, nonzero, not_equal, ones, ones_like, outer, positive, pow, prod, promote_types, put, quantile, rad2deg, ravel, real, reciprocal, remainder, reshape, result_type, roll, rot90, round, row_stack, save, searchsorted, select, set_printoptions, sign, signbit, sin, sinc, sinh, sort, split, sqrt, square, squeeze, stack, std, subtract, sum, swapaxes, take, tan, tanh, tensordot, tile, trace, transpose, trapezoid, trapz, tril, tril_indices, triu, triu_indices, true_divide, trunc, typename, unique, unravel_index, vander, var, vdot, vsplit, vstack, where, zeros, zeros_like'"
      ]
     },
     "execution_count": 23,
     "metadata": {},
     "output_type": "execute_result"
    }
   ],
   "source": [
    "# extra code: list functions that appear both in NumPy and PyTorch\n",
    "functions = lambda mod: set(f for f in dir(mod) if callable(getattr(mod, f)))\n",
    "\", \".join(sorted(functions(torch) & functions(np)))"
   ]
  },
  {
   "cell_type": "markdown",
   "metadata": {},
   "source": [
    "## Hardware Acceleration"
   ]
  },
  {
   "cell_type": "code",
   "execution_count": 24,
   "metadata": {},
   "outputs": [
    {
     "data": {
      "text/plain": [
       "'mps'"
      ]
     },
     "execution_count": 24,
     "metadata": {},
     "output_type": "execute_result"
    }
   ],
   "source": [
    "if torch.cuda.is_available():\n",
    "    device = \"cuda\"\n",
    "elif torch.backends.mps.is_available():\n",
    "    device = \"mps\"\n",
    "else:\n",
    "    device = \"cpu\"\n",
    "\n",
    "device"
   ]
  },
  {
   "cell_type": "code",
   "execution_count": 25,
   "metadata": {},
   "outputs": [
    {
     "data": {
      "text/plain": [
       "device(type='mps', index=0)"
      ]
     },
     "execution_count": 25,
     "metadata": {},
     "output_type": "execute_result"
    }
   ],
   "source": [
    "M = torch.tensor([[1., 2., 3.], [4., 5., 6.]])\n",
    "M = M.to(device)\n",
    "M.device"
   ]
  },
  {
   "cell_type": "code",
   "execution_count": 26,
   "metadata": {},
   "outputs": [],
   "source": [
    "M = torch.tensor([[1., 2., 3.], [4., 5., 6.]], device=device)"
   ]
  },
  {
   "cell_type": "code",
   "execution_count": 27,
   "metadata": {},
   "outputs": [
    {
     "data": {
      "text/plain": [
       "tensor([[14., 32.],\n",
       "        [32., 77.]], device='mps:0')"
      ]
     },
     "execution_count": 27,
     "metadata": {},
     "output_type": "execute_result"
    }
   ],
   "source": [
    "R = M @ M.T  # run some operations on the GPU\n",
    "R"
   ]
  },
  {
   "cell_type": "code",
   "execution_count": 28,
   "metadata": {},
   "outputs": [
    {
     "name": "stdout",
     "output_type": "stream",
     "text": [
      "2.33 ms ± 65.7 μs per loop (mean ± std. dev. of 7 runs, 100 loops each)\n",
      "196 μs ± 2.34 μs per loop (mean ± std. dev. of 7 runs, 10,000 loops each)\n"
     ]
    }
   ],
   "source": [
    "M = torch.rand((1000, 1000))  # on the CPU\n",
    "M @ M.T  # warmup\n",
    "%timeit M @ M.T\n",
    "\n",
    "M = M.to(device)\n",
    "M @ M.T  # warmup\n",
    "%timeit M @ M.T"
   ]
  },
  {
   "cell_type": "markdown",
   "metadata": {},
   "source": [
    "## Autograd"
   ]
  },
  {
   "cell_type": "markdown",
   "metadata": {},
   "source": [
    "Consider a simple function, $f(x) = x^2$.\n",
    "Calculus tells us that the derivative of this function is $f'(x)=2x$. Let's evaluate $f(5)$ and the derivative $f'(5)$ using autograd. We expect to find $f(5)=5^2=25$ and $f'(5)=2*5=10$. Let's see!"
   ]
  },
  {
   "cell_type": "code",
   "execution_count": 29,
   "metadata": {
    "scrolled": true
   },
   "outputs": [
    {
     "data": {
      "text/plain": [
       "tensor(25., grad_fn=<PowBackward0>)"
      ]
     },
     "execution_count": 29,
     "metadata": {},
     "output_type": "execute_result"
    }
   ],
   "source": [
    "x = torch.tensor(5.0, requires_grad=True)\n",
    "f = x ** 2\n",
    "f"
   ]
  },
  {
   "cell_type": "code",
   "execution_count": 30,
   "metadata": {},
   "outputs": [
    {
     "data": {
      "text/plain": [
       "tensor(10.)"
      ]
     },
     "execution_count": 30,
     "metadata": {},
     "output_type": "execute_result"
    }
   ],
   "source": [
    "f.backward()\n",
    "x.grad"
   ]
  },
  {
   "cell_type": "code",
   "execution_count": 31,
   "metadata": {},
   "outputs": [],
   "source": [
    "learning_rate = 0.1\n",
    "with torch.no_grad():\n",
    "    x -= learning_rate * x.grad  # gradient descent step"
   ]
  },
  {
   "cell_type": "code",
   "execution_count": 32,
   "metadata": {},
   "outputs": [
    {
     "data": {
      "text/plain": [
       "tensor(4., requires_grad=True)"
      ]
     },
     "execution_count": 32,
     "metadata": {},
     "output_type": "execute_result"
    }
   ],
   "source": [
    "x"
   ]
  },
  {
   "cell_type": "markdown",
   "metadata": {},
   "source": [
    "Alternatively, we could have used this code for the gradient descent step (but using `no_grad()` is more common for this):"
   ]
  },
  {
   "cell_type": "code",
   "execution_count": 33,
   "metadata": {},
   "outputs": [],
   "source": [
    "x_detached = x.detach()\n",
    "x_detached -= learning_rate * x.grad"
   ]
  },
  {
   "cell_type": "code",
   "execution_count": 34,
   "metadata": {},
   "outputs": [
    {
     "data": {
      "text/plain": [
       "tensor(0.)"
      ]
     },
     "execution_count": 34,
     "metadata": {},
     "output_type": "execute_result"
    }
   ],
   "source": [
    "x.grad.zero_()"
   ]
  },
  {
   "cell_type": "markdown",
   "metadata": {},
   "source": [
    "Let's put everything together to get our training loop:"
   ]
  },
  {
   "cell_type": "code",
   "execution_count": 35,
   "metadata": {},
   "outputs": [],
   "source": [
    "learning_rate = 0.1\n",
    "x = torch.tensor(5.0, requires_grad=True)\n",
    "for iteration in range(100):\n",
    "    f = x ** 2  # forward pass\n",
    "    f.backward()  # backward pass\n",
    "    with torch.no_grad():\n",
    "        x -= learning_rate * x.grad  # gradient descent step\n",
    "    x.grad.zero_()  # reset the gradients"
   ]
  },
  {
   "cell_type": "markdown",
   "metadata": {},
   "source": [
    "The variable `x` gets pushed towards 0, since that's the value that minimizes $f(x) = x^2$:"
   ]
  },
  {
   "cell_type": "code",
   "execution_count": 36,
   "metadata": {},
   "outputs": [
    {
     "data": {
      "text/plain": [
       "tensor(1.0185e-09, requires_grad=True)"
      ]
     },
     "execution_count": 36,
     "metadata": {},
     "output_type": "execute_result"
    }
   ],
   "source": [
    "x"
   ]
  },
  {
   "cell_type": "markdown",
   "metadata": {},
   "source": [
    "# Implementing Linear Regression\n",
    "## Linear Regression Using Tensors & Autograd"
   ]
  },
  {
   "cell_type": "code",
   "execution_count": 37,
   "metadata": {},
   "outputs": [],
   "source": [
    "from sklearn.datasets import fetch_california_housing\n",
    "from sklearn.model_selection import train_test_split\n",
    "\n",
    "housing = fetch_california_housing()\n",
    "X_train_full, X_test, y_train_full, y_test = train_test_split(\n",
    "    housing.data, housing.target, random_state=42)\n",
    "X_train, X_valid, y_train, y_valid = train_test_split(\n",
    "    X_train_full, y_train_full, random_state=42)"
   ]
  },
  {
   "cell_type": "code",
   "execution_count": 38,
   "metadata": {},
   "outputs": [],
   "source": [
    "X_train = torch.FloatTensor(X_train)\n",
    "X_valid = torch.FloatTensor(X_valid)\n",
    "X_test = torch.FloatTensor(X_test)\n",
    "means = X_train.mean(dim=0, keepdims=True)\n",
    "stds = X_train.std(dim=0, keepdims=True)\n",
    "X_train = (X_train - means) / stds\n",
    "X_valid = (X_valid - means) / stds\n",
    "X_test = (X_test - means) / stds"
   ]
  },
  {
   "cell_type": "markdown",
   "metadata": {},
   "source": [
    "PyTorch expects the targets to have one row per sample, so let's reshape the targets to be column vectors:"
   ]
  },
  {
   "cell_type": "code",
   "execution_count": 39,
   "metadata": {},
   "outputs": [],
   "source": [
    "y_train = torch.FloatTensor(y_train).view(-1, 1)\n",
    "y_valid = torch.FloatTensor(y_valid).view(-1, 1)\n",
    "y_test = torch.FloatTensor(y_test).view(-1, 1)"
   ]
  },
  {
   "cell_type": "code",
   "execution_count": 40,
   "metadata": {},
   "outputs": [],
   "source": [
    "torch.manual_seed(42)\n",
    "n_features = X_train.shape[1]  # there are 8 input features\n",
    "w = torch.randn((n_features, 1), requires_grad=True)\n",
    "b = torch.tensor(0., requires_grad=True)"
   ]
  },
  {
   "cell_type": "markdown",
   "metadata": {},
   "source": [
    "**Note**: in the next section, we will build an almost identical model using PyTorch's high-level API. Its results will be slightly different because it will use a different parameter initialization method: it will use a uniform random distribution from $-\\frac{1}{2\\sqrt 2}$ to $+\\frac{1}{2\\sqrt 2}$ to initialize both the weights and the bias term. If you want to get exactly the same result here as in the next section, you can uncomment and run the initialization code in the following cell, instead of the code in the previous cell:"
   ]
  },
  {
   "cell_type": "code",
   "execution_count": 41,
   "metadata": {},
   "outputs": [],
   "source": [
    "# torch.manual_seed(42)\n",
    "# n_features = X_train.shape[1]  # there are 8 input features\n",
    "# r = 2 ** -1.5  # this is equal to 1 / 2√2\n",
    "# w = torch.empty(n_features, 1).uniform_(-r, r)\n",
    "# b = torch.empty(1).uniform_(-r, r)\n",
    "# w.requires_grad_(True)\n",
    "# b.requires_grad_(True)"
   ]
  },
  {
   "cell_type": "code",
   "execution_count": 42,
   "metadata": {},
   "outputs": [
    {
     "name": "stdout",
     "output_type": "stream",
     "text": [
      "Epoch 1/20, Loss: 16.158458709716797\n",
      "Epoch 2/20, Loss: 4.879374027252197\n",
      "Epoch 3/20, Loss: 2.255225896835327\n",
      "Epoch 4/20, Loss: 1.3307636976242065\n",
      "Epoch 5/20, Loss: 0.9680691957473755\n",
      "Epoch 6/20, Loss: 0.8142675757408142\n",
      "Epoch 7/20, Loss: 0.741704523563385\n",
      "Epoch 8/20, Loss: 0.7020700573921204\n",
      "Epoch 9/20, Loss: 0.6765917539596558\n",
      "Epoch 10/20, Loss: 0.6577964425086975\n",
      "Epoch 11/20, Loss: 0.6426150798797607\n",
      "Epoch 12/20, Loss: 0.6297222971916199\n",
      "Epoch 13/20, Loss: 0.6184941530227661\n",
      "Epoch 14/20, Loss: 0.6085968017578125\n",
      "Epoch 15/20, Loss: 0.5998216271400452\n",
      "Epoch 16/20, Loss: 0.5920186638832092\n",
      "Epoch 17/20, Loss: 0.5850691199302673\n",
      "Epoch 18/20, Loss: 0.578873336315155\n",
      "Epoch 19/20, Loss: 0.5733453631401062\n",
      "Epoch 20/20, Loss: 0.5684100389480591\n"
     ]
    }
   ],
   "source": [
    "learning_rate = 0.4\n",
    "n_epochs = 20\n",
    "for epoch in range(n_epochs):\n",
    "    y_pred = X_train @ w + b\n",
    "    loss = ((y_pred - y_train) ** 2).mean()\n",
    "    loss.backward()\n",
    "    with torch.no_grad():\n",
    "        b -= learning_rate * b.grad\n",
    "        w -= learning_rate * w.grad\n",
    "        b.grad.zero_()\n",
    "        w.grad.zero_()\n",
    "    print(f\"Epoch {epoch + 1}/{n_epochs}, Loss: {loss.item()}\")"
   ]
  },
  {
   "cell_type": "code",
   "execution_count": 43,
   "metadata": {},
   "outputs": [],
   "source": [
    "X_new = X_test[:3]  # pretend these are new instances\n",
    "with torch.no_grad():\n",
    "    y_pred = X_new @ w + b  # use the trained parameters to make predictions"
   ]
  },
  {
   "cell_type": "code",
   "execution_count": 44,
   "metadata": {},
   "outputs": [
    {
     "data": {
      "text/plain": [
       "tensor([[0.8916],\n",
       "        [1.6480],\n",
       "        [2.6577]])"
      ]
     },
     "execution_count": 44,
     "metadata": {},
     "output_type": "execute_result"
    }
   ],
   "source": [
    "y_pred"
   ]
  },
  {
   "cell_type": "markdown",
   "metadata": {},
   "source": [
    "## Linear Regression Using PyTorch's High-Level API"
   ]
  },
  {
   "cell_type": "code",
   "execution_count": 45,
   "metadata": {},
   "outputs": [],
   "source": [
    "import torch.nn as nn\n",
    "\n",
    "torch.manual_seed(42)  # to get reproducible results\n",
    "model = nn.Linear(in_features=n_features, out_features=1)"
   ]
  },
  {
   "cell_type": "code",
   "execution_count": 46,
   "metadata": {},
   "outputs": [
    {
     "data": {
      "text/plain": [
       "Parameter containing:\n",
       "tensor([0.3117], requires_grad=True)"
      ]
     },
     "execution_count": 46,
     "metadata": {},
     "output_type": "execute_result"
    }
   ],
   "source": [
    "model.bias"
   ]
  },
  {
   "cell_type": "code",
   "execution_count": 47,
   "metadata": {},
   "outputs": [
    {
     "data": {
      "text/plain": [
       "Parameter containing:\n",
       "tensor([[ 0.2703,  0.2935, -0.0828,  0.3248, -0.0775,  0.0713, -0.1721,  0.2076]],\n",
       "       requires_grad=True)"
      ]
     },
     "execution_count": 47,
     "metadata": {},
     "output_type": "execute_result"
    }
   ],
   "source": [
    "model.weight"
   ]
  },
  {
   "cell_type": "code",
   "execution_count": 48,
   "metadata": {},
   "outputs": [
    {
     "name": "stdout",
     "output_type": "stream",
     "text": [
      "Parameter containing:\n",
      "tensor([[ 0.2703,  0.2935, -0.0828,  0.3248, -0.0775,  0.0713, -0.1721,  0.2076]],\n",
      "       requires_grad=True)\n",
      "Parameter containing:\n",
      "tensor([0.3117], requires_grad=True)\n"
     ]
    }
   ],
   "source": [
    "for param in model.parameters():\n",
    "    print(param)"
   ]
  },
  {
   "cell_type": "code",
   "execution_count": 49,
   "metadata": {},
   "outputs": [
    {
     "data": {
      "text/plain": [
       "tensor([[-0.4718],\n",
       "        [ 0.1131]], grad_fn=<AddmmBackward0>)"
      ]
     },
     "execution_count": 49,
     "metadata": {},
     "output_type": "execute_result"
    }
   ],
   "source": [
    "model(X_train[:2])"
   ]
  },
  {
   "cell_type": "code",
   "execution_count": 50,
   "metadata": {},
   "outputs": [],
   "source": [
    "optimizer = torch.optim.SGD(model.parameters(), lr=learning_rate)\n",
    "mse = nn.MSELoss()"
   ]
  },
  {
   "cell_type": "code",
   "execution_count": 51,
   "metadata": {},
   "outputs": [],
   "source": [
    "def train_bgd(model, optimizer, criterion, X_train, y_train, n_epochs):\n",
    "    for epoch in range(n_epochs):\n",
    "        y_pred = model(X_train)\n",
    "        loss = criterion(y_pred, y_train)\n",
    "        loss.backward()\n",
    "        optimizer.step()\n",
    "        optimizer.zero_grad()\n",
    "        print(f\"Epoch {epoch + 1}/{n_epochs}, Loss: {loss.item()}\")"
   ]
  },
  {
   "cell_type": "code",
   "execution_count": 52,
   "metadata": {},
   "outputs": [
    {
     "name": "stdout",
     "output_type": "stream",
     "text": [
      "Epoch 1/20, Loss: 4.337850093841553\n",
      "Epoch 2/20, Loss: 0.7802939414978027\n",
      "Epoch 3/20, Loss: 0.6253842115402222\n",
      "Epoch 4/20, Loss: 0.6060435175895691\n",
      "Epoch 5/20, Loss: 0.5956299304962158\n",
      "Epoch 6/20, Loss: 0.587356686592102\n",
      "Epoch 7/20, Loss: 0.5802990198135376\n",
      "Epoch 8/20, Loss: 0.5741382837295532\n",
      "Epoch 9/20, Loss: 0.5687101483345032\n",
      "Epoch 10/20, Loss: 0.5639079213142395\n",
      "Epoch 11/20, Loss: 0.5596511363983154\n",
      "Epoch 12/20, Loss: 0.5558737516403198\n",
      "Epoch 13/20, Loss: 0.5525194406509399\n",
      "Epoch 14/20, Loss: 0.5495392084121704\n",
      "Epoch 15/20, Loss: 0.5468899607658386\n",
      "Epoch 16/20, Loss: 0.5445339679718018\n",
      "Epoch 17/20, Loss: 0.5424376726150513\n",
      "Epoch 18/20, Loss: 0.5405715703964233\n",
      "Epoch 19/20, Loss: 0.5389097332954407\n",
      "Epoch 20/20, Loss: 0.5374288558959961\n"
     ]
    }
   ],
   "source": [
    "train_bgd(model, optimizer, mse, X_train, y_train, n_epochs)"
   ]
  },
  {
   "cell_type": "code",
   "execution_count": 53,
   "metadata": {},
   "outputs": [
    {
     "data": {
      "text/plain": [
       "tensor([[0.8061],\n",
       "        [1.7116],\n",
       "        [2.6973]])"
      ]
     },
     "execution_count": 53,
     "metadata": {},
     "output_type": "execute_result"
    }
   ],
   "source": [
    "X_new = X_test[:3]  # pretend these are new instances\n",
    "with torch.no_grad():\n",
    "    y_pred = model(X_new)  # use the trained model to make predictions\n",
    "\n",
    "y_pred"
   ]
  },
  {
   "cell_type": "markdown",
   "metadata": {},
   "source": [
    "# Implementing a Regression MLP"
   ]
  },
  {
   "cell_type": "code",
   "execution_count": 54,
   "metadata": {},
   "outputs": [],
   "source": [
    "torch.manual_seed(42)\n",
    "model = nn.Sequential(\n",
    "    nn.Linear(n_features, 50),\n",
    "    nn.ReLU(),\n",
    "    nn.Linear(50, 40),\n",
    "    nn.ReLU(),\n",
    "    nn.Linear(40, 1)\n",
    ")"
   ]
  },
  {
   "cell_type": "code",
   "execution_count": 55,
   "metadata": {},
   "outputs": [
    {
     "name": "stdout",
     "output_type": "stream",
     "text": [
      "Epoch 1/20, Loss: 5.045480251312256\n",
      "Epoch 2/20, Loss: 2.0523128509521484\n",
      "Epoch 3/20, Loss: 1.0039883852005005\n",
      "Epoch 4/20, Loss: 0.8570139408111572\n",
      "Epoch 5/20, Loss: 0.7740675210952759\n",
      "Epoch 6/20, Loss: 0.7225848436355591\n",
      "Epoch 7/20, Loss: 0.6893726587295532\n",
      "Epoch 8/20, Loss: 0.6669033169746399\n",
      "Epoch 9/20, Loss: 0.6507739424705505\n",
      "Epoch 10/20, Loss: 0.6383934020996094\n",
      "Epoch 11/20, Loss: 0.6281994581222534\n",
      "Epoch 12/20, Loss: 0.6193398833274841\n",
      "Epoch 13/20, Loss: 0.6113173365592957\n",
      "Epoch 14/20, Loss: 0.6038705110549927\n",
      "Epoch 15/20, Loss: 0.5968307852745056\n",
      "Epoch 16/20, Loss: 0.5901119112968445\n",
      "Epoch 17/20, Loss: 0.5836467742919922\n",
      "Epoch 18/20, Loss: 0.5774063467979431\n",
      "Epoch 19/20, Loss: 0.5713555216789246\n",
      "Epoch 20/20, Loss: 0.565444827079773\n"
     ]
    }
   ],
   "source": [
    "learning_rate = 0.1\n",
    "optimizer = torch.optim.SGD(model.parameters(), lr=learning_rate)\n",
    "mse = nn.MSELoss()\n",
    "train_bgd(model, optimizer, mse, X_train, y_train, n_epochs)"
   ]
  },
  {
   "cell_type": "markdown",
   "metadata": {},
   "source": [
    "# Implementing Mini-Batch Gradient Descent using DataLoaders"
   ]
  },
  {
   "cell_type": "code",
   "execution_count": 56,
   "metadata": {},
   "outputs": [],
   "source": [
    "from torch.utils.data import TensorDataset, DataLoader\n",
    "\n",
    "train_dataset = TensorDataset(X_train, y_train)\n",
    "train_loader = DataLoader(train_dataset, batch_size=32, shuffle=True)"
   ]
  },
  {
   "cell_type": "code",
   "execution_count": 57,
   "metadata": {},
   "outputs": [],
   "source": [
    "# extra code – build the model just like earlier\n",
    "torch.manual_seed(42)\n",
    "model = nn.Sequential(\n",
    "    nn.Linear(n_features, 50), nn.ReLU(),\n",
    "    nn.Linear(50, 40), nn.ReLU(),\n",
    "    nn.Linear(40, 1)\n",
    ")\n",
    "\n",
    "model = model.to(device)\n",
    "\n",
    "# extra code – build the optimizer and loss function, as earlier\n",
    "learning_rate = 0.02\n",
    "optimizer = torch.optim.SGD(model.parameters(), lr=learning_rate, momentum=0)\n",
    "mse = nn.MSELoss()"
   ]
  },
  {
   "cell_type": "code",
   "execution_count": 58,
   "metadata": {},
   "outputs": [],
   "source": [
    "def train(model, optimizer, criterion, train_loader, n_epochs):\n",
    "    model.train()\n",
    "    for epoch in range(n_epochs):\n",
    "        total_loss = 0.\n",
    "        for X_batch, y_batch in train_loader:\n",
    "            X_batch, y_batch = X_batch.to(device), y_batch.to(device)\n",
    "            y_pred = model(X_batch)\n",
    "            loss = criterion(y_pred, y_batch)\n",
    "            total_loss += loss.item()\n",
    "            loss.backward()\n",
    "            optimizer.step()\n",
    "            optimizer.zero_grad()\n",
    "\n",
    "        mean_loss = total_loss / len(train_loader)\n",
    "        print(f\"Epoch {epoch + 1}/{n_epochs}, Loss: {mean_loss:.4f}\")"
   ]
  },
  {
   "cell_type": "code",
   "execution_count": 59,
   "metadata": {
    "scrolled": true
   },
   "outputs": [
    {
     "name": "stdout",
     "output_type": "stream",
     "text": [
      "Epoch 1/20, Loss: 0.5900\n",
      "Epoch 2/20, Loss: 0.4046\n",
      "Epoch 3/20, Loss: 0.3801\n",
      "Epoch 4/20, Loss: 0.3629\n",
      "Epoch 5/20, Loss: 0.3529\n",
      "Epoch 6/20, Loss: 0.3520\n",
      "Epoch 7/20, Loss: 0.3408\n",
      "Epoch 8/20, Loss: 0.3427\n",
      "Epoch 9/20, Loss: 0.3406\n",
      "Epoch 10/20, Loss: 0.3378\n",
      "Epoch 11/20, Loss: 0.3304\n",
      "Epoch 12/20, Loss: 0.3267\n",
      "Epoch 13/20, Loss: 0.3244\n",
      "Epoch 14/20, Loss: 0.3221\n",
      "Epoch 15/20, Loss: 0.3186\n",
      "Epoch 16/20, Loss: 0.3149\n",
      "Epoch 17/20, Loss: 0.3123\n",
      "Epoch 18/20, Loss: 0.3111\n",
      "Epoch 19/20, Loss: 0.3088\n",
      "Epoch 20/20, Loss: 0.3072\n"
     ]
    }
   ],
   "source": [
    "train(model, optimizer, mse, train_loader, n_epochs)"
   ]
  },
  {
   "cell_type": "markdown",
   "metadata": {},
   "source": [
    "# Model Evaluation"
   ]
  },
  {
   "cell_type": "code",
   "execution_count": 60,
   "metadata": {},
   "outputs": [],
   "source": [
    "def evaluate(model, data_loader, metric_fn, aggregate_fn=torch.mean):\n",
    "    model.eval()\n",
    "    metrics = []\n",
    "    with torch.no_grad():\n",
    "        for X_batch, y_batch in data_loader:\n",
    "            X_batch, y_batch = X_batch.to(device), y_batch.to(device)\n",
    "            y_pred = model(X_batch)\n",
    "            metric = metric_fn(y_pred, y_batch)\n",
    "            metrics.append(metric)\n",
    "    return aggregate_fn(torch.stack(metrics))"
   ]
  },
  {
   "cell_type": "code",
   "execution_count": 61,
   "metadata": {},
   "outputs": [
    {
     "data": {
      "text/plain": [
       "tensor(0.4193, device='mps:0')"
      ]
     },
     "execution_count": 61,
     "metadata": {},
     "output_type": "execute_result"
    }
   ],
   "source": [
    "valid_dataset = TensorDataset(X_valid, y_valid)\n",
    "valid_loader = DataLoader(valid_dataset, batch_size=32)\n",
    "valid_mse = evaluate(model, valid_loader, mse)\n",
    "valid_mse"
   ]
  },
  {
   "cell_type": "code",
   "execution_count": 62,
   "metadata": {},
   "outputs": [
    {
     "data": {
      "text/plain": [
       "tensor(0.5732, device='mps:0')"
      ]
     },
     "execution_count": 62,
     "metadata": {},
     "output_type": "execute_result"
    }
   ],
   "source": [
    "def rmse(y_pred, y_true):\n",
    "    return ((y_pred - y_true) ** 2).mean().sqrt()\n",
    "\n",
    "evaluate(model, valid_loader, rmse)"
   ]
  },
  {
   "cell_type": "code",
   "execution_count": 63,
   "metadata": {},
   "outputs": [
    {
     "data": {
      "text/plain": [
       "tensor(0.6476, device='mps:0')"
      ]
     },
     "execution_count": 63,
     "metadata": {},
     "output_type": "execute_result"
    }
   ],
   "source": [
    "valid_mse.sqrt()"
   ]
  },
  {
   "cell_type": "code",
   "execution_count": 64,
   "metadata": {},
   "outputs": [
    {
     "data": {
      "text/plain": [
       "tensor(0.6476, device='mps:0')"
      ]
     },
     "execution_count": 64,
     "metadata": {},
     "output_type": "execute_result"
    }
   ],
   "source": [
    "evaluate(model, valid_loader, mse,\n",
    "         aggregate_fn=lambda metrics: torch.sqrt(torch.mean(metrics)))"
   ]
  },
  {
   "cell_type": "code",
   "execution_count": 65,
   "metadata": {},
   "outputs": [],
   "source": [
    "import torchmetrics\n",
    "\n",
    "def evaluate_tm(model, data_loader, metric):\n",
    "    model.eval()\n",
    "    metric.reset()  # reset the metric at the beginning\n",
    "    with torch.no_grad():\n",
    "        for X_batch, y_batch in data_loader:\n",
    "            X_batch, y_batch = X_batch.to(device), y_batch.to(device)\n",
    "            y_pred = model(X_batch)\n",
    "            metric.update(y_pred, y_batch)  # update it at each iteration\n",
    "    return metric.compute()  # compute the final result at the end"
   ]
  },
  {
   "cell_type": "code",
   "execution_count": 66,
   "metadata": {},
   "outputs": [
    {
     "data": {
      "text/plain": [
       "tensor(0.6477, device='mps:0')"
      ]
     },
     "execution_count": 66,
     "metadata": {},
     "output_type": "execute_result"
    }
   ],
   "source": [
    "rmse = torchmetrics.MeanSquaredError(squared=False).to(device)\n",
    "evaluate_tm(model, valid_loader, rmse)"
   ]
  },
  {
   "cell_type": "code",
   "execution_count": 67,
   "metadata": {},
   "outputs": [
    {
     "name": "stdout",
     "output_type": "stream",
     "text": [
      "Epoch 1/20, train loss: 0.7826, train metric: 0.8847, valid metric: 0.6690\n",
      "Epoch 2/20, train loss: 0.4362, train metric: 0.6605, valid metric: 0.6099\n",
      "Epoch 3/20, train loss: 0.3930, train metric: 0.6269, valid metric: 0.6145\n",
      "Epoch 4/20, train loss: 0.3759, train metric: 0.6132, valid metric: 0.5963\n",
      "Epoch 5/20, train loss: 0.3649, train metric: 0.6040, valid metric: 0.5911\n",
      "Epoch 6/20, train loss: 0.3598, train metric: 0.5999, valid metric: 0.5965\n",
      "Epoch 7/20, train loss: 0.3530, train metric: 0.5941, valid metric: 0.6061\n",
      "Epoch 8/20, train loss: 0.3495, train metric: 0.5911, valid metric: 0.6043\n",
      "Epoch 9/20, train loss: 0.3455, train metric: 0.5877, valid metric: 0.5723\n",
      "Epoch 10/20, train loss: 0.3416, train metric: 0.5846, valid metric: 0.6043\n",
      "Epoch 11/20, train loss: 0.3401, train metric: 0.5831, valid metric: 0.5882\n",
      "Epoch 12/20, train loss: 0.3362, train metric: 0.5799, valid metric: 0.5738\n",
      "Epoch 13/20, train loss: 0.3352, train metric: 0.5788, valid metric: 0.5872\n",
      "Epoch 14/20, train loss: 0.3309, train metric: 0.5753, valid metric: 0.5885\n",
      "Epoch 15/20, train loss: 0.3290, train metric: 0.5736, valid metric: 0.5607\n",
      "Epoch 16/20, train loss: 0.3272, train metric: 0.5721, valid metric: 0.5747\n",
      "Epoch 17/20, train loss: 0.3264, train metric: 0.5714, valid metric: 0.5832\n",
      "Epoch 18/20, train loss: 0.3238, train metric: 0.5692, valid metric: 0.5658\n",
      "Epoch 19/20, train loss: 0.3208, train metric: 0.5664, valid metric: 0.5557\n",
      "Epoch 20/20, train loss: 0.3190, train metric: 0.5649, valid metric: 0.5616\n"
     ]
    },
    {
     "data": {
      "image/png": "[encoded data removed]",
      "text/plain": [
       "<Figure size 640x480 with 1 Axes>"
      ]
     },
     "metadata": {},
     "output_type": "display_data"
    }
   ],
   "source": [
    "def train2(model, optimizer, criterion, metric, train_loader, valid_loader,\n",
    "               n_epochs):\n",
    "    history = {\"train_losses\": [], \"train_metrics\": [], \"valid_metrics\": []}\n",
    "    for epoch in range(n_epochs):\n",
    "        total_loss = 0.\n",
    "        metric.reset()\n",
    "        for X_batch, y_batch in train_loader:\n",
    "            model.train()\n",
    "            X_batch, y_batch = X_batch.to(device), y_batch.to(device)\n",
    "            y_pred = model(X_batch)\n",
    "            loss = criterion(y_pred, y_batch)\n",
    "            total_loss += loss.item()\n",
    "            loss.backward()\n",
    "            optimizer.step()\n",
    "            optimizer.zero_grad()\n",
    "            metric.update(y_pred, y_batch)\n",
    "        mean_loss = total_loss / len(train_loader)\n",
    "        history[\"train_losses\"].append(mean_loss)\n",
    "        history[\"train_metrics\"].append(metric.compute().item())\n",
    "        history[\"valid_metrics\"].append(\n",
    "            evaluate_tm(model, valid_loader, metric).item())\n",
    "        print(f\"Epoch {epoch + 1}/{n_epochs}, \"\n",
    "              f\"train loss: {history['train_losses'][-1]:.4f}, \"\n",
    "              f\"train metric: {history['train_metrics'][-1]:.4f}, \"\n",
    "              f\"valid metric: {history['valid_metrics'][-1]:.4f}\")\n",
    "    return history\n",
    "\n",
    "torch.manual_seed(42)\n",
    "learning_rate = 0.01\n",
    "model = nn.Sequential(\n",
    "    nn.Linear(n_features, 50), nn.ReLU(),\n",
    "    nn.Linear(50, 40), nn.ReLU(),\n",
    "    nn.Linear(40, 30), nn.ReLU(),\n",
    "    nn.Linear(30, 1)\n",
    ")\n",
    "model = model.to(device)\n",
    "optimizer = torch.optim.SGD(model.parameters(), lr=learning_rate, momentum=0)\n",
    "mse = nn.MSELoss()\n",
    "rmse = torchmetrics.MeanSquaredError(squared=False).to(device)\n",
    "history = train2(model, optimizer, mse, rmse, train_loader, valid_loader,\n",
    "                 n_epochs)\n",
    "\n",
    "# Since we compute the training metric \n",
    "plt.plot(np.arange(n_epochs) + 0.5, history[\"train_metrics\"], \".--\",\n",
    "         label=\"Training\")\n",
    "plt.plot(np.arange(n_epochs) + 1.0, history[\"valid_metrics\"], \".-\",\n",
    "         label=\"Validation\")\n",
    "plt.xlabel(\"Epoch\")\n",
    "plt.ylabel(\"RMSE\")\n",
    "plt.grid()\n",
    "plt.title(\"Learning curves\")\n",
    "plt.axis([0.5, 20, 0.4, 1.0])\n",
    "plt.legend()\n",
    "plt.show()"
   ]
  },
  {
   "cell_type": "markdown",
   "metadata": {},
   "source": [
    "# Building Nonsequential Models Using Custom Modules"
   ]
  },
  {
   "cell_type": "code",
   "execution_count": 68,
   "metadata": {},
   "outputs": [],
   "source": [
    "class WideAndDeep(nn.Module):\n",
    "    def __init__(self, n_features):\n",
    "        super().__init__()\n",
    "        self.deep_stack = nn.Sequential(\n",
    "            nn.Linear(n_features, 50), nn.ReLU(),\n",
    "            nn.Linear(50, 40), nn.ReLU(),\n",
    "            nn.Linear(40, 30), nn.ReLU(),\n",
    "        )\n",
    "        self.output_layer = nn.Linear(30 + n_features, 1)\n",
    "\n",
    "    def forward(self, X):\n",
    "        deep_output = self.deep_stack(X)\n",
    "        wide_and_deep = torch.concat([X, deep_output], dim=1)\n",
    "        return self.output_layer(wide_and_deep)"
   ]
  },
  {
   "cell_type": "code",
   "execution_count": 69,
   "metadata": {},
   "outputs": [],
   "source": [
    "torch.manual_seed(42)\n",
    "model = WideAndDeep(n_features).to(device)\n",
    "learning_rate = 0.002  # the model changed, so did the optimal learning rate"
   ]
  },
  {
   "cell_type": "code",
   "execution_count": 70,
   "metadata": {},
   "outputs": [
    {
     "name": "stdout",
     "output_type": "stream",
     "text": [
      "Epoch 1/20, train loss: 1.7802, train metric: 1.3344, valid metric: 0.8690\n",
      "Epoch 2/20, train loss: 0.6201, train metric: 0.7875, valid metric: 0.9492\n",
      "Epoch 3/20, train loss: 0.5900, train metric: 0.7682, valid metric: 0.7331\n",
      "Epoch 4/20, train loss: 0.5607, train metric: 0.7488, valid metric: 0.7771\n",
      "Epoch 5/20, train loss: 0.5408, train metric: 0.7353, valid metric: 0.7967\n",
      "Epoch 6/20, train loss: 0.5244, train metric: 0.7241, valid metric: 0.7098\n",
      "Epoch 7/20, train loss: 0.5070, train metric: 0.7119, valid metric: 0.7419\n",
      "Epoch 8/20, train loss: 0.4941, train metric: 0.7030, valid metric: 0.6750\n",
      "Epoch 9/20, train loss: 0.4798, train metric: 0.6928, valid metric: 0.6762\n",
      "Epoch 10/20, train loss: 0.4657, train metric: 0.6825, valid metric: 0.6678\n",
      "Epoch 11/20, train loss: 0.4538, train metric: 0.6736, valid metric: 0.6617\n",
      "Epoch 12/20, train loss: 0.4441, train metric: 0.6665, valid metric: 0.6651\n",
      "Epoch 13/20, train loss: 0.4328, train metric: 0.6580, valid metric: 0.6803\n",
      "Epoch 14/20, train loss: 0.4232, train metric: 0.6506, valid metric: 0.6288\n",
      "Epoch 15/20, train loss: 0.4139, train metric: 0.6434, valid metric: 0.6202\n",
      "Epoch 16/20, train loss: 0.4063, train metric: 0.6374, valid metric: 0.6216\n",
      "Epoch 17/20, train loss: 0.3991, train metric: 0.6317, valid metric: 0.6129\n",
      "Epoch 18/20, train loss: 0.3937, train metric: 0.6274, valid metric: 0.6031\n",
      "Epoch 19/20, train loss: 0.3879, train metric: 0.6228, valid metric: 0.6092\n",
      "Epoch 20/20, train loss: 0.3834, train metric: 0.6193, valid metric: 0.5957\n"
     ]
    }
   ],
   "source": [
    "# extra code: train the model, exactly our previous models\n",
    "optimizer = torch.optim.SGD(model.parameters(), lr=learning_rate, momentum=0)\n",
    "mse = nn.MSELoss()\n",
    "rmse = torchmetrics.MeanSquaredError(squared=False).to(device)\n",
    "history = train2(model, optimizer, mse, rmse, train_loader, valid_loader,\n",
    "                 n_epochs)"
   ]
  },
  {
   "cell_type": "code",
   "execution_count": 71,
   "metadata": {},
   "outputs": [],
   "source": [
    "class WideAndDeepV2(nn.Module):\n",
    "    def __init__(self, n_features):\n",
    "        super().__init__()\n",
    "        self.deep_stack = nn.Sequential(\n",
    "            nn.Linear(n_features - 2, 50), nn.ReLU(),\n",
    "            nn.Linear(50, 40), nn.ReLU(),\n",
    "            nn.Linear(40, 30), nn.ReLU(),\n",
    "        )\n",
    "        self.output_layer = nn.Linear(30 + 5, 1)\n",
    "\n",
    "    def forward(self, X):\n",
    "        X_wide = X[:, :5]\n",
    "        X_deep = X[:, 2:]\n",
    "        deep_output = self.deep_stack(X_deep)\n",
    "        wide_and_deep = torch.concat([X_wide, deep_output], dim=1)\n",
    "        return self.output_layer(wide_and_deep)"
   ]
  },
  {
   "cell_type": "code",
   "execution_count": 72,
   "metadata": {},
   "outputs": [],
   "source": [
    "torch.manual_seed(42)\n",
    "model = WideAndDeepV2(n_features).to(device)"
   ]
  },
  {
   "cell_type": "code",
   "execution_count": 73,
   "metadata": {},
   "outputs": [
    {
     "name": "stdout",
     "output_type": "stream",
     "text": [
      "Epoch 1/20, train loss: 1.8482, train metric: 1.3598, valid metric: 0.9100\n",
      "Epoch 2/20, train loss: 0.6282, train metric: 0.7927, valid metric: 0.8028\n",
      "Epoch 3/20, train loss: 0.5763, train metric: 0.7591, valid metric: 0.7567\n",
      "Epoch 4/20, train loss: 0.5413, train metric: 0.7356, valid metric: 0.7290\n",
      "Epoch 5/20, train loss: 0.5099, train metric: 0.7142, valid metric: 0.7011\n",
      "Epoch 6/20, train loss: 0.4841, train metric: 0.6958, valid metric: 0.6816\n",
      "Epoch 7/20, train loss: 0.4656, train metric: 0.6824, valid metric: 0.6670\n",
      "Epoch 8/20, train loss: 0.4526, train metric: 0.6728, valid metric: 0.6576\n",
      "Epoch 9/20, train loss: 0.4438, train metric: 0.6662, valid metric: 0.6539\n",
      "Epoch 10/20, train loss: 0.4380, train metric: 0.6618, valid metric: 0.6498\n",
      "Epoch 11/20, train loss: 0.4326, train metric: 0.6577, valid metric: 0.6470\n",
      "Epoch 12/20, train loss: 0.4284, train metric: 0.6546, valid metric: 0.6447\n",
      "Epoch 13/20, train loss: 0.4253, train metric: 0.6521, valid metric: 0.6452\n",
      "Epoch 14/20, train loss: 0.4216, train metric: 0.6494, valid metric: 0.6468\n",
      "Epoch 15/20, train loss: 0.4190, train metric: 0.6473, valid metric: 0.6484\n",
      "Epoch 16/20, train loss: 0.4169, train metric: 0.6458, valid metric: 0.6452\n",
      "Epoch 17/20, train loss: 0.4144, train metric: 0.6438, valid metric: 0.6459\n",
      "Epoch 18/20, train loss: 0.4118, train metric: 0.6417, valid metric: 0.6470\n",
      "Epoch 19/20, train loss: 0.4101, train metric: 0.6404, valid metric: 0.6475\n",
      "Epoch 20/20, train loss: 0.4082, train metric: 0.6389, valid metric: 0.6493\n"
     ]
    }
   ],
   "source": [
    "# extra code: train the model, exactly our previous models\n",
    "learning_rate = 0.002\n",
    "optimizer = torch.optim.SGD(model.parameters(), lr=learning_rate, momentum=0)\n",
    "mse = nn.MSELoss()\n",
    "rmse = torchmetrics.MeanSquaredError(squared=False).to(device)\n",
    "history = train2(model, optimizer, mse, rmse, train_loader, valid_loader,\n",
    "                 n_epochs)"
   ]
  },
  {
   "cell_type": "markdown",
   "metadata": {},
   "source": [
    "## Building Models with Multiple Inputs"
   ]
  },
  {
   "cell_type": "code",
   "execution_count": 74,
   "metadata": {},
   "outputs": [],
   "source": [
    "class WideAndDeepV3(nn.Module):\n",
    "    def __init__(self, n_features):\n",
    "        super().__init__()\n",
    "        self.deep_stack = nn.Sequential(\n",
    "            nn.Linear(n_features - 2, 50), nn.ReLU(),\n",
    "            nn.Linear(50, 40), nn.ReLU(),\n",
    "            nn.Linear(40, 30), nn.ReLU(),\n",
    "        )\n",
    "        self.output_layer = nn.Linear(30 + 5, 1)\n",
    "\n",
    "    def forward(self, X_wide, X_deep):\n",
    "        deep_output = self.deep_stack(X_deep)\n",
    "        wide_and_deep = torch.concat([X_wide, deep_output], dim=1)\n",
    "        return self.output_layer(wide_and_deep)"
   ]
  },
  {
   "cell_type": "code",
   "execution_count": 75,
   "metadata": {},
   "outputs": [],
   "source": [
    "torch.manual_seed(42)\n",
    "train_data_wd = TensorDataset(X_train[:, :5], X_train[:, 2:], y_train)\n",
    "train_loader_wd = DataLoader(train_data_wd, batch_size=32, shuffle=True)\n",
    "valid_data_wd = TensorDataset(X_valid[:, :5], X_valid[:, 2:], y_valid)\n",
    "valid_loader_wd = DataLoader(valid_data_wd, batch_size=32)\n",
    "test_data_wd = TensorDataset(X_test[:, :5], X_test[:, 2:], y_test)\n",
    "test_loader_wd = DataLoader(test_data_wd, batch_size=32)"
   ]
  },
  {
   "cell_type": "code",
   "execution_count": 76,
   "metadata": {},
   "outputs": [
    {
     "name": "stdout",
     "output_type": "stream",
     "text": [
      "Epoch 1/20, train loss: 0.8335, train metric: 0.9131, valid metric: 0.6957\n",
      "Epoch 2/20, train loss: 0.4736, train metric: 0.6882, valid metric: 0.6463\n",
      "Epoch 3/20, train loss: 0.4447, train metric: 0.6669, valid metric: 0.6364\n",
      "Epoch 4/20, train loss: 0.4251, train metric: 0.6520, valid metric: 0.6326\n",
      "Epoch 5/20, train loss: 0.4157, train metric: 0.6447, valid metric: 0.6281\n",
      "Epoch 6/20, train loss: 0.4093, train metric: 0.6397, valid metric: 0.6150\n",
      "Epoch 7/20, train loss: 0.4023, train metric: 0.6343, valid metric: 0.6201\n",
      "Epoch 8/20, train loss: 0.3971, train metric: 0.6301, valid metric: 0.6039\n",
      "Epoch 9/20, train loss: 0.3906, train metric: 0.6250, valid metric: 0.6031\n",
      "Epoch 10/20, train loss: 0.3855, train metric: 0.6209, valid metric: 0.5955\n",
      "Epoch 11/20, train loss: 0.3800, train metric: 0.6164, valid metric: 0.5980\n",
      "Epoch 12/20, train loss: 0.3738, train metric: 0.6114, valid metric: 0.5875\n",
      "Epoch 13/20, train loss: 0.3690, train metric: 0.6074, valid metric: 0.5870\n",
      "Epoch 14/20, train loss: 0.3636, train metric: 0.6030, valid metric: 0.5838\n",
      "Epoch 15/20, train loss: 0.3589, train metric: 0.5991, valid metric: 0.5774\n",
      "Epoch 16/20, train loss: 0.3550, train metric: 0.5958, valid metric: 0.5737\n",
      "Epoch 17/20, train loss: 0.3514, train metric: 0.5928, valid metric: 0.5708\n",
      "Epoch 18/20, train loss: 0.3481, train metric: 0.5900, valid metric: 0.5671\n",
      "Epoch 19/20, train loss: 0.3444, train metric: 0.5868, valid metric: 0.5677\n",
      "Epoch 20/20, train loss: 0.3412, train metric: 0.5841, valid metric: 0.5620\n"
     ]
    }
   ],
   "source": [
    "def evaluate_multi_in(model, data_loader, metric):\n",
    "    model.eval()\n",
    "    metric.reset()  # reset the metric at the beginning\n",
    "    with torch.no_grad():\n",
    "        for X_batch_wide, X_batch_deep, y_batch in data_loader:\n",
    "            X_batch_wide = X_batch_wide.to(device)\n",
    "            X_batch_deep = X_batch_deep.to(device)\n",
    "            y_batch = y_batch.to(device)\n",
    "            y_pred = model(X_batch_wide, X_batch_deep)\n",
    "            metric.update(y_pred, y_batch)  # update it at each iteration\n",
    "    return metric.compute()  # compute the final result at the end\n",
    "\n",
    "def train_multi_in(model, optimizer, criterion, metric, train_loader,\n",
    "                   valid_loader, n_epochs):\n",
    "    history = {\"train_losses\": [], \"train_metrics\": [], \"valid_metrics\": []}\n",
    "    for epoch in range(n_epochs):\n",
    "        total_loss = 0.\n",
    "        metric.reset()\n",
    "        for *X_batch_inputs, y_batch in train_loader:\n",
    "            model.train()\n",
    "            X_batch_inputs = [X.to(device) for X in X_batch_inputs]\n",
    "            y_batch = y_batch.to(device)\n",
    "            y_pred = model(*X_batch_inputs)\n",
    "            loss = criterion(y_pred, y_batch)\n",
    "            total_loss += loss.item()\n",
    "            loss.backward()\n",
    "            optimizer.step()\n",
    "            optimizer.zero_grad()\n",
    "            metric.update(y_pred, y_batch)\n",
    "        mean_loss = total_loss / len(train_loader)\n",
    "        history[\"train_losses\"].append(mean_loss)\n",
    "        history[\"train_metrics\"].append(metric.compute().item())\n",
    "        history[\"valid_metrics\"].append(\n",
    "            evaluate_multi_in(model, valid_loader, metric).item())\n",
    "        print(f\"Epoch {epoch + 1}/{n_epochs}, \"\n",
    "              f\"train loss: {history['train_losses'][-1]:.4f}, \"\n",
    "              f\"train metric: {history['train_metrics'][-1]:.4f}, \"\n",
    "              f\"valid metric: {history['valid_metrics'][-1]:.4f}\")\n",
    "    return history\n",
    "\n",
    "torch.manual_seed(42)\n",
    "learning_rate = 0.01\n",
    "model = WideAndDeepV3(n_features).to(device)\n",
    "optimizer = torch.optim.SGD(model.parameters(), lr=learning_rate, momentum=0)\n",
    "mse = nn.MSELoss()\n",
    "rmse = torchmetrics.MeanSquaredError(squared=False).to(device)\n",
    "history = train_multi_in(model, optimizer, mse, rmse, train_loader_wd,\n",
    "                         valid_loader_wd, n_epochs)"
   ]
  },
  {
   "cell_type": "code",
   "execution_count": 77,
   "metadata": {},
   "outputs": [],
   "source": [
    "class WideAndDeepDataset(torch.utils.data.Dataset):\n",
    "    def __init__(self, X_wide, X_deep, y):\n",
    "        self.X_wide = X_wide\n",
    "        self.X_deep = X_deep\n",
    "        self.y = y\n",
    "\n",
    "    def __len__(self):\n",
    "        return len(self.y)\n",
    "\n",
    "    def __getitem__(self, idx):\n",
    "        input_dict = {\"X_wide\": self.X_wide[idx], \"X_deep\": self.X_deep[idx]}\n",
    "        return input_dict, self.y[idx]"
   ]
  },
  {
   "cell_type": "code",
   "execution_count": 78,
   "metadata": {},
   "outputs": [],
   "source": [
    "torch.manual_seed(42)\n",
    "train_data_named = WideAndDeepDataset(\n",
    "    X_wide=X_train[:, :5], X_deep=X_train[:, 2:], y=y_train)\n",
    "train_loader_named = DataLoader(train_data_named, batch_size=32, shuffle=True)\n",
    "valid_data_named = WideAndDeepDataset(\n",
    "    X_wide=X_valid[:, :5], X_deep=X_valid[:, 2:], y=y_valid)\n",
    "valid_loader_named = DataLoader(valid_data_named, batch_size=32)\n",
    "test_data_named = WideAndDeepDataset(\n",
    "    X_wide=X_test[:, :5], X_deep=X_test[:, 2:], y=y_test)\n",
    "test_loader_named = DataLoader(test_data_named, batch_size=32)"
   ]
  },
  {
   "cell_type": "code",
   "execution_count": 79,
   "metadata": {},
   "outputs": [
    {
     "name": "stdout",
     "output_type": "stream",
     "text": [
      "Epoch 1/20, train loss: 0.8335, train metric: 0.9131, valid metric: 0.6957\n",
      "Epoch 2/20, train loss: 0.4736, train metric: 0.6882, valid metric: 0.6463\n",
      "Epoch 3/20, train loss: 0.4447, train metric: 0.6669, valid metric: 0.6364\n",
      "Epoch 4/20, train loss: 0.4251, train metric: 0.6520, valid metric: 0.6326\n",
      "Epoch 5/20, train loss: 0.4157, train metric: 0.6447, valid metric: 0.6281\n",
      "Epoch 6/20, train loss: 0.4093, train metric: 0.6397, valid metric: 0.6150\n",
      "Epoch 7/20, train loss: 0.4023, train metric: 0.6343, valid metric: 0.6201\n",
      "Epoch 8/20, train loss: 0.3971, train metric: 0.6301, valid metric: 0.6039\n",
      "Epoch 9/20, train loss: 0.3906, train metric: 0.6250, valid metric: 0.6031\n",
      "Epoch 10/20, train loss: 0.3855, train metric: 0.6209, valid metric: 0.5955\n",
      "Epoch 11/20, train loss: 0.3800, train metric: 0.6164, valid metric: 0.5980\n",
      "Epoch 12/20, train loss: 0.3738, train metric: 0.6114, valid metric: 0.5875\n",
      "Epoch 13/20, train loss: 0.3690, train metric: 0.6074, valid metric: 0.5870\n",
      "Epoch 14/20, train loss: 0.3636, train metric: 0.6030, valid metric: 0.5838\n",
      "Epoch 15/20, train loss: 0.3589, train metric: 0.5991, valid metric: 0.5774\n",
      "Epoch 16/20, train loss: 0.3550, train metric: 0.5958, valid metric: 0.5737\n",
      "Epoch 17/20, train loss: 0.3514, train metric: 0.5928, valid metric: 0.5708\n",
      "Epoch 18/20, train loss: 0.3481, train metric: 0.5900, valid metric: 0.5671\n",
      "Epoch 19/20, train loss: 0.3444, train metric: 0.5868, valid metric: 0.5677\n",
      "Epoch 20/20, train loss: 0.3412, train metric: 0.5841, valid metric: 0.5620\n"
     ]
    }
   ],
   "source": [
    "def evaluate_named(model, data_loader, metric):\n",
    "    model.eval()\n",
    "    metric.reset()  # reset the metric at the beginning\n",
    "    with torch.no_grad():\n",
    "        for inputs, y_batch in data_loader:\n",
    "            inputs = {name: X.to(device) for name, X in inputs.items()}\n",
    "            y_batch = y_batch.to(device)\n",
    "            y_pred = model(X_wide=inputs[\"X_wide\"], X_deep=inputs[\"X_deep\"])\n",
    "            metric.update(y_pred, y_batch)\n",
    "    return metric.compute()  # compute the final result at the end\n",
    "\n",
    "def train_named(model, optimizer, criterion, metric, train_loader,\n",
    "                   valid_loader, n_epochs):\n",
    "    history = {\"train_losses\": [], \"train_metrics\": [], \"valid_metrics\": []}\n",
    "    for epoch in range(n_epochs):\n",
    "        total_loss = 0.\n",
    "        metric.reset()\n",
    "        for inputs, y_batch in train_loader:\n",
    "            model.train()\n",
    "            inputs = {name: X.to(device) for name, X in inputs.items()}\n",
    "            y_batch = y_batch.to(device)\n",
    "            y_pred = model(**inputs)\n",
    "            loss = criterion(y_pred, y_batch)\n",
    "            total_loss += loss.item()\n",
    "            loss.backward()\n",
    "            optimizer.step()\n",
    "            optimizer.zero_grad()\n",
    "            metric.update(y_pred, y_batch)\n",
    "        mean_loss = total_loss / len(train_loader)\n",
    "        history[\"train_losses\"].append(mean_loss)\n",
    "        history[\"train_metrics\"].append(metric.compute().item())\n",
    "        history[\"valid_metrics\"].append(\n",
    "            evaluate_named(model, valid_loader, metric).item())\n",
    "        print(f\"Epoch {epoch + 1}/{n_epochs}, \"\n",
    "              f\"train loss: {history['train_losses'][-1]:.4f}, \"\n",
    "              f\"train metric: {history['train_metrics'][-1]:.4f}, \"\n",
    "              f\"valid metric: {history['valid_metrics'][-1]:.4f}\")\n",
    "    return history\n",
    "\n",
    "torch.manual_seed(42)\n",
    "learning_rate = 0.01\n",
    "model = WideAndDeepV3(n_features).to(device)\n",
    "optimizer = torch.optim.SGD(model.parameters(), lr=learning_rate, momentum=0)\n",
    "mse = nn.MSELoss()\n",
    "rmse = torchmetrics.MeanSquaredError(squared=False).to(device)\n",
    "history = train_named(model, optimizer, mse, rmse, train_loader_named,\n",
    "                      valid_loader_named, n_epochs)"
   ]
  },
  {
   "cell_type": "markdown",
   "metadata": {},
   "source": [
    "## Building Models with Multiple Outputs"
   ]
  },
  {
   "cell_type": "code",
   "execution_count": 80,
   "metadata": {},
   "outputs": [],
   "source": [
    "class WideAndDeepV4(nn.Module):\n",
    "    def __init__(self, n_features):\n",
    "        super().__init__()\n",
    "        self.deep_stack = nn.Sequential(\n",
    "            nn.Linear(n_features - 2, 50), nn.ReLU(),\n",
    "            nn.Linear(50, 40), nn.ReLU(),\n",
    "            nn.Linear(40, 30), nn.ReLU(),\n",
    "        )\n",
    "        self.output_layer = nn.Linear(30 + 5, 1)\n",
    "        self.aux_output_layer = nn.Linear(30, 1)\n",
    "\n",
    "    def forward(self, X_wide, X_deep):\n",
    "        deep_output = self.deep_stack(X_deep)\n",
    "        wide_and_deep = torch.concat([X_wide, deep_output], dim=1)\n",
    "        main_output = self.output_layer(wide_and_deep)\n",
    "        aux_output = self.aux_output_layer(deep_output)\n",
    "        return main_output, aux_output"
   ]
  },
  {
   "cell_type": "code",
   "execution_count": 81,
   "metadata": {},
   "outputs": [
    {
     "name": "stdout",
     "output_type": "stream",
     "text": [
      "Epoch 1/20, train loss: 1.0641, train metric: 0.9477, valid metric: 0.7070\n",
      "Epoch 2/20, train loss: 0.5708, train metric: 0.6868, valid metric: 0.6428\n",
      "Epoch 3/20, train loss: 0.5067, train metric: 0.6641, valid metric: 0.6354\n",
      "Epoch 4/20, train loss: 0.4786, train metric: 0.6577, valid metric: 0.6367\n",
      "Epoch 5/20, train loss: 0.4548, train metric: 0.6461, valid metric: 0.6372\n",
      "Epoch 6/20, train loss: 0.4441, train metric: 0.6415, valid metric: 0.6202\n",
      "Epoch 7/20, train loss: 0.4338, train metric: 0.6356, valid metric: 0.6157\n",
      "Epoch 8/20, train loss: 0.4255, train metric: 0.6309, valid metric: 0.6130\n",
      "Epoch 9/20, train loss: 0.4186, train metric: 0.6269, valid metric: 0.5995\n",
      "Epoch 10/20, train loss: 0.4107, train metric: 0.6217, valid metric: 0.6067\n",
      "Epoch 11/20, train loss: 0.4055, train metric: 0.6190, valid metric: 0.5910\n",
      "Epoch 12/20, train loss: 0.3965, train metric: 0.6126, valid metric: 0.5986\n",
      "Epoch 13/20, train loss: 0.3885, train metric: 0.6065, valid metric: 0.5810\n",
      "Epoch 14/20, train loss: 0.3829, train metric: 0.6028, valid metric: 0.5812\n",
      "Epoch 15/20, train loss: 0.3771, train metric: 0.5990, valid metric: 0.5791\n",
      "Epoch 16/20, train loss: 0.3731, train metric: 0.5966, valid metric: 0.5725\n",
      "Epoch 17/20, train loss: 0.3675, train metric: 0.5923, valid metric: 0.5763\n",
      "Epoch 18/20, train loss: 0.3648, train metric: 0.5905, valid metric: 0.5656\n",
      "Epoch 19/20, train loss: 0.3605, train metric: 0.5871, valid metric: 0.5700\n",
      "Epoch 20/20, train loss: 0.3575, train metric: 0.5851, valid metric: 0.5616\n"
     ]
    }
   ],
   "source": [
    "import torchmetrics\n",
    "\n",
    "def evaluate_multi_out(model, data_loader, metric):\n",
    "    model.eval()\n",
    "    metric.reset()\n",
    "    with torch.no_grad():\n",
    "        for inputs, y_batch in data_loader:\n",
    "            inputs = {name: X.to(device) for name, X in inputs.items()}\n",
    "            y_batch = y_batch.to(device)\n",
    "            y_pred, _ = model(**inputs)\n",
    "            metric.update(y_pred, y_batch)\n",
    "    return metric.compute()\n",
    "\n",
    "def train_multi_out(model, optimizer, criterion, metric, train_loader,\n",
    "                   valid_loader, n_epochs):\n",
    "    history = {\"train_losses\": [], \"train_metrics\": [], \"valid_metrics\": []}\n",
    "    for epoch in range(n_epochs):\n",
    "        total_loss = 0.\n",
    "        metric.reset()\n",
    "        for inputs, y_batch in train_loader:\n",
    "            model.train()\n",
    "            inputs = {name: X.to(device) for name, X in inputs.items()}\n",
    "            y_batch = y_batch.to(device)\n",
    "            y_pred, y_pred_aux = model(**inputs)\n",
    "            main_loss = criterion(y_pred, y_batch)\n",
    "            aux_loss = criterion(y_pred_aux, y_batch)\n",
    "            loss = 0.8 * main_loss + 0.2 * aux_loss\n",
    "            total_loss += loss.item()\n",
    "            loss.backward()\n",
    "            optimizer.step()\n",
    "            optimizer.zero_grad()\n",
    "            metric.update(y_pred, y_batch)\n",
    "        mean_loss = total_loss / len(train_loader)\n",
    "        history[\"train_losses\"].append(mean_loss)\n",
    "        history[\"train_metrics\"].append(metric.compute().item())\n",
    "        history[\"valid_metrics\"].append(\n",
    "            evaluate_multi_out(model, valid_loader, metric).item())\n",
    "        print(f\"Epoch {epoch + 1}/{n_epochs}, \"\n",
    "              f\"train loss: {history['train_losses'][-1]:.4f}, \"\n",
    "              f\"train metric: {history['train_metrics'][-1]:.4f}, \"\n",
    "              f\"valid metric: {history['valid_metrics'][-1]:.4f}\")\n",
    "    return history\n",
    "\n",
    "torch.manual_seed(42)\n",
    "learning_rate = 0.01\n",
    "model = WideAndDeepV4(n_features).to(device)\n",
    "optimizer = torch.optim.SGD(model.parameters(), lr=learning_rate, momentum=0)\n",
    "mse = nn.MSELoss()\n",
    "rmse = torchmetrics.MeanSquaredError(squared=False).to(device)\n",
    "history = train_multi_out(model, optimizer, mse, rmse, train_loader_named,\n",
    "                          valid_loader_named, n_epochs)"
   ]
  },
  {
   "cell_type": "markdown",
   "metadata": {},
   "source": [
    "# Building an Image Classifier with PyTorch"
   ]
  },
  {
   "cell_type": "markdown",
   "metadata": {},
   "source": [
    "## Using TorchVision to Load the Dataset"
   ]
  },
  {
   "cell_type": "code",
   "execution_count": 82,
   "metadata": {},
   "outputs": [],
   "source": [
    "import torchvision\n",
    "import torchvision.transforms.v2 as T\n",
    "\n",
    "toTensor = T.Compose([T.ToImage(), T.ToDtype(torch.float32, scale=True)])\n",
    "\n",
    "train_and_valid_data = torchvision.datasets.FashionMNIST(\n",
    "    root=\"datasets\", train=True, download=True, transform=toTensor)\n",
    "test_data = torchvision.datasets.FashionMNIST(\n",
    "    root=\"datasets\", train=False, download=True, transform=toTensor)\n",
    "\n",
    "torch.manual_seed(42)\n",
    "train_data, valid_data = torch.utils.data.random_split(\n",
    "    train_and_valid_data, [55_000, 5_000])"
   ]
  },
  {
   "cell_type": "code",
   "execution_count": 83,
   "metadata": {},
   "outputs": [],
   "source": [
    "torch.manual_seed(42)\n",
    "train_loader = DataLoader(train_data, batch_size=32, shuffle=True)\n",
    "valid_loader = DataLoader(valid_data, batch_size=32)\n",
    "test_loader = DataLoader(test_data, batch_size=32)"
   ]
  },
  {
   "cell_type": "markdown",
   "metadata": {},
   "source": [
    "Each entry is a tuple (image, target):"
   ]
  },
  {
   "cell_type": "code",
   "execution_count": 84,
   "metadata": {},
   "outputs": [],
   "source": [
    "X_sample, y_sample = train_data[0]"
   ]
  },
  {
   "cell_type": "markdown",
   "metadata": {},
   "source": [
    "Each image has a shape \\[channels, rows, columns\\]. Grayscale images like in Fashion MNIST have a single channel (while RGB images have 3, and other types of images, such as satellite images, may have many more). Fashion images are grayscale and 28x28 pixels:"
   ]
  },
  {
   "cell_type": "code",
   "execution_count": 85,
   "metadata": {},
   "outputs": [
    {
     "data": {
      "text/plain": [
       "torch.Size([1, 28, 28])"
      ]
     },
     "execution_count": 85,
     "metadata": {},
     "output_type": "execute_result"
    }
   ],
   "source": [
    "X_sample.shape"
   ]
  },
  {
   "cell_type": "code",
   "execution_count": 86,
   "metadata": {},
   "outputs": [
    {
     "data": {
      "text/plain": [
       "torch.float32"
      ]
     },
     "execution_count": 86,
     "metadata": {},
     "output_type": "execute_result"
    }
   ],
   "source": [
    "X_sample.dtype"
   ]
  },
  {
   "cell_type": "code",
   "execution_count": 87,
   "metadata": {},
   "outputs": [
    {
     "data": {
      "text/plain": [
       "'Ankle boot'"
      ]
     },
     "execution_count": 87,
     "metadata": {},
     "output_type": "execute_result"
    }
   ],
   "source": [
    "train_and_valid_data.classes[y_sample]"
   ]
  },
  {
   "cell_type": "markdown",
   "metadata": {},
   "source": [
    "## Building the Classifier"
   ]
  },
  {
   "cell_type": "code",
   "execution_count": 88,
   "metadata": {},
   "outputs": [],
   "source": [
    "class ImageClassifier(nn.Module):\n",
    "    def __init__(self, n_inputs, n_hidden1, n_hidden2, n_classes):\n",
    "        super().__init__()\n",
    "        self.mlp = nn.Sequential(\n",
    "            nn.Flatten(),\n",
    "            nn.Linear(n_inputs, n_hidden1),\n",
    "            nn.ReLU(),\n",
    "            nn.Linear(n_hidden1, n_hidden2),\n",
    "            nn.ReLU(),\n",
    "            nn.Linear(n_hidden2, n_classes)\n",
    "        )\n",
    "\n",
    "    def forward(self, X):\n",
    "        return self.mlp(X)\n",
    "\n",
    "torch.manual_seed(42)\n",
    "model = ImageClassifier(n_inputs=1 * 28 * 28, n_hidden1=300, n_hidden2=100,\n",
    "                        n_classes=10).to(device)\n",
    "xentropy = nn.CrossEntropyLoss()"
   ]
  },
  {
   "cell_type": "code",
   "execution_count": 89,
   "metadata": {},
   "outputs": [
    {
     "name": "stdout",
     "output_type": "stream",
     "text": [
      "Epoch 1/20, train loss: 0.6060, train metric: 0.7816, valid metric: 0.8418\n",
      "Epoch 2/20, train loss: 0.4062, train metric: 0.8495, valid metric: 0.8382\n",
      "Epoch 3/20, train loss: 0.3631, train metric: 0.8655, valid metric: 0.8512\n",
      "Epoch 4/20, train loss: 0.3351, train metric: 0.8770, valid metric: 0.8668\n",
      "Epoch 5/20, train loss: 0.3147, train metric: 0.8835, valid metric: 0.8772\n",
      "Epoch 6/20, train loss: 0.2985, train metric: 0.8876, valid metric: 0.8662\n",
      "Epoch 7/20, train loss: 0.2848, train metric: 0.8933, valid metric: 0.8698\n",
      "Epoch 8/20, train loss: 0.2738, train metric: 0.8972, valid metric: 0.8742\n",
      "Epoch 9/20, train loss: 0.2625, train metric: 0.9022, valid metric: 0.8768\n",
      "Epoch 10/20, train loss: 0.2520, train metric: 0.9049, valid metric: 0.8750\n",
      "Epoch 11/20, train loss: 0.2451, train metric: 0.9080, valid metric: 0.8842\n",
      "Epoch 12/20, train loss: 0.2355, train metric: 0.9111, valid metric: 0.8890\n",
      "Epoch 13/20, train loss: 0.2284, train metric: 0.9133, valid metric: 0.8852\n",
      "Epoch 14/20, train loss: 0.2213, train metric: 0.9156, valid metric: 0.8616\n",
      "Epoch 15/20, train loss: 0.2155, train metric: 0.9179, valid metric: 0.8788\n",
      "Epoch 16/20, train loss: 0.2087, train metric: 0.9208, valid metric: 0.8868\n",
      "Epoch 17/20, train loss: 0.2030, train metric: 0.9233, valid metric: 0.8920\n",
      "Epoch 18/20, train loss: 0.1992, train metric: 0.9229, valid metric: 0.8868\n",
      "Epoch 19/20, train loss: 0.1920, train metric: 0.9268, valid metric: 0.8840\n",
      "Epoch 20/20, train loss: 0.1872, train metric: 0.9284, valid metric: 0.8760\n"
     ]
    }
   ],
   "source": [
    "optimizer = torch.optim.SGD(model.parameters(), lr=0.1)\n",
    "accuracy = torchmetrics.Accuracy(task=\"multiclass\", num_classes=10).to(device)\n",
    "_ = train2(model, optimizer, xentropy, accuracy, train_loader, valid_loader,\n",
    "           n_epochs)"
   ]
  },
  {
   "cell_type": "code",
   "execution_count": 90,
   "metadata": {},
   "outputs": [
    {
     "data": {
      "text/plain": [
       "tensor([7, 4, 2], device='mps:0')"
      ]
     },
     "execution_count": 90,
     "metadata": {},
     "output_type": "execute_result"
    }
   ],
   "source": [
    "model.eval()\n",
    "X_new, y_new = next(iter(valid_loader))\n",
    "X_new = X_new[:3].to(device)\n",
    "with torch.no_grad():\n",
    "    y_pred_logits = model(X_new)\n",
    "y_pred = y_pred_logits.argmax(dim=1)  # index of the largest logit\n",
    "y_pred"
   ]
  },
  {
   "cell_type": "code",
   "execution_count": 91,
   "metadata": {},
   "outputs": [
    {
     "data": {
      "text/plain": [
       "['Sneaker', 'Coat', 'Pullover']"
      ]
     },
     "execution_count": 91,
     "metadata": {},
     "output_type": "execute_result"
    }
   ],
   "source": [
    "[train_and_valid_data.classes[index] for index in y_pred]"
   ]
  },
  {
   "cell_type": "markdown",
   "metadata": {},
   "source": [
    "Let's check whether the model made the correct predictions:"
   ]
  },
  {
   "cell_type": "code",
   "execution_count": 92,
   "metadata": {},
   "outputs": [
    {
     "data": {
      "text/plain": [
       "tensor([7, 4, 2])"
      ]
     },
     "execution_count": 92,
     "metadata": {},
     "output_type": "execute_result"
    }
   ],
   "source": [
    "y_new[:3]"
   ]
  },
  {
   "cell_type": "markdown",
   "metadata": {},
   "source": [
    "All correct! 😃"
   ]
  },
  {
   "cell_type": "code",
   "execution_count": 93,
   "metadata": {},
   "outputs": [
    {
     "data": {
      "text/plain": [
       "tensor([[0.0000, 0.0000, 0.0000, 0.0000, 0.0000, 0.0020, 0.0000, 0.9570, 0.0000,\n",
       "         0.0400],\n",
       "        [0.0000, 0.0000, 0.0030, 0.0000, 0.9970, 0.0000, 0.0000, 0.0000, 0.0000,\n",
       "         0.0000],\n",
       "        [0.0010, 0.0000, 0.6700, 0.0010, 0.1440, 0.0000, 0.1820, 0.0000, 0.0010,\n",
       "         0.0000]])"
      ]
     },
     "execution_count": 93,
     "metadata": {},
     "output_type": "execute_result"
    }
   ],
   "source": [
    "import torch.nn.functional as F\n",
    "y_proba = F.softmax(y_pred_logits, dim=1)\n",
    "if device == \"mps\":\n",
    "    y_proba = y_proba.cpu()\n",
    "y_proba.cpu().round(decimals=3)"
   ]
  },
  {
   "cell_type": "code",
   "execution_count": 94,
   "metadata": {},
   "outputs": [
    {
     "data": {
      "text/plain": [
       "tensor([[0.9570, 0.0400, 0.0020, 0.0000],\n",
       "        [0.9970, 0.0030, 0.0000, 0.0000],\n",
       "        [0.6720, 0.1830, 0.1440, 0.0010]])"
      ]
     },
     "execution_count": 94,
     "metadata": {},
     "output_type": "execute_result"
    }
   ],
   "source": [
    "y_top4_values, y_top4_indices = torch.topk(y_pred_logits, k=4, dim=1)\n",
    "y_top4_probas = F.softmax(y_top4_values, dim=1)\n",
    "if device == \"mps\":\n",
    "    y_top4_probas = y_top4_probas.cpu()\n",
    "y_top4_probas.round(decimals=3)"
   ]
  },
  {
   "cell_type": "code",
   "execution_count": 95,
   "metadata": {},
   "outputs": [
    {
     "data": {
      "text/plain": [
       "tensor([[7, 9, 5, 8],\n",
       "        [4, 2, 6, 3],\n",
       "        [2, 6, 4, 0]], device='mps:0')"
      ]
     },
     "execution_count": 95,
     "metadata": {},
     "output_type": "execute_result"
    }
   ],
   "source": [
    "y_top4_indices"
   ]
  },
  {
   "cell_type": "code",
   "execution_count": 96,
   "metadata": {},
   "outputs": [
    {
     "data": {
      "text/plain": [
       "266610"
      ]
     },
     "execution_count": 96,
     "metadata": {},
     "output_type": "execute_result"
    }
   ],
   "source": [
    "sum([param.numel() for param in model.parameters()])"
   ]
  },
  {
   "cell_type": "markdown",
   "metadata": {},
   "source": [
    "# Hyperparameter Tuning using Optuna"
   ]
  },
  {
   "cell_type": "code",
   "execution_count": 97,
   "metadata": {},
   "outputs": [],
   "source": [
    "import optuna\n",
    "\n",
    "def objective(trial):\n",
    "    learning_rate = trial.suggest_float(\"learning_rate\", 1e-5, 1e-1, log=True)\n",
    "    n_hidden = trial.suggest_int(\"n_hidden\", 20, 300)\n",
    "    model = ImageClassifier(n_inputs=1 * 28 * 28, n_hidden1=n_hidden,\n",
    "                            n_hidden2=n_hidden, n_classes=10).to(device)\n",
    "    optimizer = torch.optim.SGD(model.parameters(), lr=learning_rate)\n",
    "    xentropy = nn.CrossEntropyLoss()\n",
    "    accuracy = torchmetrics.Accuracy(task=\"multiclass\", num_classes=10)\n",
    "    accuracy = accuracy.to(device)\n",
    "    history = train2(model, optimizer, xentropy, accuracy, train_loader,\n",
    "                     valid_loader, n_epochs=10)\n",
    "    validation_accuracy = max(history[\"valid_metrics\"])\n",
    "    return validation_accuracy"
   ]
  },
  {
   "cell_type": "code",
   "execution_count": 98,
   "metadata": {},
   "outputs": [
    {
     "name": "stderr",
     "output_type": "stream",
     "text": [
      "[I 2025-01-14 16:41:23,757] A new study created in memory with name: no-name-9067ff97-f870-417d-bc4a-62a7ed857cd9\n"
     ]
    },
    {
     "name": "stdout",
     "output_type": "stream",
     "text": [
      "Epoch 1/10, train loss: 2.2769, train metric: 0.1471, valid metric: 0.1862\n",
      "Epoch 2/10, train loss: 2.2093, train metric: 0.2794, valid metric: 0.3500\n",
      "Epoch 3/10, train loss: 2.1164, train metric: 0.4110, valid metric: 0.4556\n",
      "Epoch 4/10, train loss: 1.9776, train metric: 0.5137, valid metric: 0.5560\n",
      "Epoch 5/10, train loss: 1.7867, train metric: 0.5826, valid metric: 0.6026\n",
      "Epoch 6/10, train loss: 1.5775, train metric: 0.6184, valid metric: 0.6228\n",
      "Epoch 7/10, train loss: 1.3978, train metric: 0.6288, valid metric: 0.6326\n",
      "Epoch 8/10, train loss: 1.2605, train metric: 0.6360, valid metric: 0.6372\n",
      "Epoch 9/10, train loss: 1.1572, train metric: 0.6467, valid metric: 0.6424\n"
     ]
    },
    {
     "name": "stderr",
     "output_type": "stream",
     "text": [
      "[I 2025-01-14 16:44:59,258] Trial 0 finished with value: 0.6435999870300293 and parameters: {'learning_rate': 0.00031489116479568613, 'n_hidden': 287}. Best is trial 0 with value: 0.6435999870300293.\n"
     ]
    },
    {
     "name": "stdout",
     "output_type": "stream",
     "text": [
      "Epoch 10/10, train loss: 1.0782, train metric: 0.6537, valid metric: 0.6436\n",
      "Epoch 1/10, train loss: 1.1459, train metric: 0.6228, valid metric: 0.7336\n",
      "Epoch 2/10, train loss: 0.6108, train metric: 0.7842, valid metric: 0.7994\n",
      "Epoch 3/10, train loss: 0.5202, train metric: 0.8169, valid metric: 0.8096\n",
      "Epoch 4/10, train loss: 0.4810, train metric: 0.8301, valid metric: 0.8312\n",
      "Epoch 5/10, train loss: 0.4557, train metric: 0.8405, valid metric: 0.8350\n",
      "Epoch 6/10, train loss: 0.4388, train metric: 0.8459, valid metric: 0.8440\n",
      "Epoch 7/10, train loss: 0.4240, train metric: 0.8514, valid metric: 0.8412\n",
      "Epoch 8/10, train loss: 0.4123, train metric: 0.8564, valid metric: 0.8510\n",
      "Epoch 9/10, train loss: 0.3998, train metric: 0.8599, valid metric: 0.8530\n"
     ]
    },
    {
     "name": "stderr",
     "output_type": "stream",
     "text": [
      "[I 2025-01-14 16:48:43,793] Trial 1 finished with value: 0.8547999858856201 and parameters: {'learning_rate': 0.008471801418819975, 'n_hidden': 188}. Best is trial 1 with value: 0.8547999858856201.\n"
     ]
    },
    {
     "name": "stdout",
     "output_type": "stream",
     "text": [
      "Epoch 10/10, train loss: 0.3896, train metric: 0.8639, valid metric: 0.8548\n",
      "Epoch 1/10, train loss: 2.3069, train metric: 0.1144, valid metric: 0.1082\n",
      "Epoch 2/10, train loss: 2.2993, train metric: 0.1231, valid metric: 0.1294\n",
      "Epoch 3/10, train loss: 2.2914, train metric: 0.1606, valid metric: 0.1710\n",
      "Epoch 4/10, train loss: 2.2836, train metric: 0.1839, valid metric: 0.1840\n",
      "Epoch 5/10, train loss: 2.2762, train metric: 0.1891, valid metric: 0.1856\n",
      "Epoch 6/10, train loss: 2.2692, train metric: 0.1910, valid metric: 0.1898\n",
      "Epoch 7/10, train loss: 2.2623, train metric: 0.1933, valid metric: 0.1932\n",
      "Epoch 8/10, train loss: 2.2554, train metric: 0.2000, valid metric: 0.2022\n",
      "Epoch 9/10, train loss: 2.2485, train metric: 0.2122, valid metric: 0.2160\n"
     ]
    },
    {
     "name": "stderr",
     "output_type": "stream",
     "text": [
      "[I 2025-01-14 16:52:29,166] Trial 2 finished with value: 0.23340000212192535 and parameters: {'learning_rate': 4.207988669606632e-05, 'n_hidden': 63}. Best is trial 1 with value: 0.8547999858856201.\n"
     ]
    },
    {
     "name": "stdout",
     "output_type": "stream",
     "text": [
      "Epoch 10/10, train loss: 2.2414, train metric: 0.2299, valid metric: 0.2334\n",
      "Epoch 1/10, train loss: 2.3035, train metric: 0.1373, valid metric: 0.1526\n",
      "Epoch 2/10, train loss: 2.3005, train metric: 0.1569, valid metric: 0.1724\n",
      "Epoch 3/10, train loss: 2.2975, train metric: 0.1755, valid metric: 0.1896\n",
      "Epoch 4/10, train loss: 2.2945, train metric: 0.1941, valid metric: 0.2132\n",
      "Epoch 5/10, train loss: 2.2914, train metric: 0.2105, valid metric: 0.2288\n",
      "Epoch 6/10, train loss: 2.2884, train metric: 0.2261, valid metric: 0.2418\n",
      "Epoch 7/10, train loss: 2.2853, train metric: 0.2419, valid metric: 0.2580\n",
      "Epoch 8/10, train loss: 2.2823, train metric: 0.2581, valid metric: 0.2742\n",
      "Epoch 9/10, train loss: 2.2792, train metric: 0.2736, valid metric: 0.2918\n"
     ]
    },
    {
     "name": "stderr",
     "output_type": "stream",
     "text": [
      "[I 2025-01-14 16:56:10,153] Trial 3 finished with value: 0.30959999561309814 and parameters: {'learning_rate': 1.7073967431528103e-05, 'n_hidden': 263}. Best is trial 1 with value: 0.8547999858856201.\n"
     ]
    },
    {
     "name": "stdout",
     "output_type": "stream",
     "text": [
      "Epoch 10/10, train loss: 2.2761, train metric: 0.2897, valid metric: 0.3096\n",
      "Epoch 1/10, train loss: 1.8379, train metric: 0.4869, valid metric: 0.6208\n",
      "Epoch 2/10, train loss: 0.9751, train metric: 0.6666, valid metric: 0.6978\n",
      "Epoch 3/10, train loss: 0.7608, train metric: 0.7253, valid metric: 0.7416\n",
      "Epoch 4/10, train loss: 0.6704, train metric: 0.7639, valid metric: 0.7720\n",
      "Epoch 5/10, train loss: 0.6108, train metric: 0.7913, valid metric: 0.7904\n",
      "Epoch 6/10, train loss: 0.5686, train metric: 0.8053, valid metric: 0.8050\n",
      "Epoch 7/10, train loss: 0.5385, train metric: 0.8164, valid metric: 0.8082\n",
      "Epoch 8/10, train loss: 0.5158, train metric: 0.8243, valid metric: 0.8216\n",
      "Epoch 9/10, train loss: 0.4988, train metric: 0.8281, valid metric: 0.8220\n"
     ]
    },
    {
     "name": "stderr",
     "output_type": "stream",
     "text": [
      "[I 2025-01-14 16:59:52,557] Trial 4 finished with value: 0.8220000267028809 and parameters: {'learning_rate': 0.002537815508265664, 'n_hidden': 218}. Best is trial 1 with value: 0.8547999858856201.\n"
     ]
    },
    {
     "name": "stdout",
     "output_type": "stream",
     "text": [
      "Epoch 10/10, train loss: 0.4842, train metric: 0.8330, valid metric: 0.8092\n"
     ]
    }
   ],
   "source": [
    "torch.manual_seed(42)\n",
    "sampler = optuna.samplers.TPESampler(seed=42)\n",
    "study = optuna.create_study(direction=\"maximize\", sampler=sampler)\n",
    "study.optimize(objective, n_trials=5)"
   ]
  },
  {
   "cell_type": "code",
   "execution_count": 99,
   "metadata": {},
   "outputs": [
    {
     "data": {
      "text/plain": [
       "{'learning_rate': 0.008471801418819975, 'n_hidden': 188}"
      ]
     },
     "execution_count": 99,
     "metadata": {},
     "output_type": "execute_result"
    }
   ],
   "source": [
    "study.best_params"
   ]
  },
  {
   "cell_type": "code",
   "execution_count": 100,
   "metadata": {},
   "outputs": [
    {
     "data": {
      "text/plain": [
       "0.8547999858856201"
      ]
     },
     "execution_count": 100,
     "metadata": {},
     "output_type": "execute_result"
    }
   ],
   "source": [
    "study.best_value"
   ]
  },
  {
   "cell_type": "code",
   "execution_count": 101,
   "metadata": {},
   "outputs": [],
   "source": [
    "def objective(trial, train_loader, valid_loader):\n",
    "    learning_rate = trial.suggest_float(\"learning_rate\", 1e-5, 1e-1, log=True)\n",
    "    n_hidden = trial.suggest_int(\"n_hidden\", 20, 300)\n",
    "    model = ImageClassifier(n_inputs=1 * 28 * 28, n_hidden1=n_hidden,\n",
    "                            n_hidden2=n_hidden, n_classes=10).to(device)\n",
    "    optimizer = torch.optim.SGD(model.parameters(), lr=learning_rate)\n",
    "    xentropy = nn.CrossEntropyLoss()\n",
    "    accuracy = torchmetrics.Accuracy(task=\"multiclass\", num_classes=10)\n",
    "    accuracy = accuracy.to(device)\n",
    "    best_validation_accuracy = 0.0\n",
    "    for epoch in range(n_epochs):\n",
    "        history = train2(model, optimizer, xentropy, accuracy, train_loader,\n",
    "                         valid_loader, n_epochs=1)\n",
    "        validation_accuracy = max(history[\"valid_metrics\"])\n",
    "        if validation_accuracy > best_validation_accuracy:\n",
    "            best_validation_accuracy = validation_accuracy\n",
    "        trial.report(validation_accuracy, epoch)\n",
    "        if trial.should_prune():\n",
    "            raise optuna.TrialPruned()\n",
    "    return best_validation_accuracy"
   ]
  },
  {
   "cell_type": "code",
   "execution_count": 102,
   "metadata": {},
   "outputs": [],
   "source": [
    "objective_with_data = lambda trial: objective(\n",
    "    trial, train_loader=train_loader, valid_loader=valid_loader)"
   ]
  },
  {
   "cell_type": "code",
   "execution_count": 103,
   "metadata": {},
   "outputs": [],
   "source": [
    "from functools import partial\n",
    "\n",
    "objective_with_data = partial(objective, train_loader=train_loader,\n",
    "                              valid_loader=valid_loader)"
   ]
  },
  {
   "cell_type": "code",
   "execution_count": 104,
   "metadata": {},
   "outputs": [
    {
     "name": "stderr",
     "output_type": "stream",
     "text": [
      "[I 2025-01-14 16:59:52,594] A new study created in memory with name: no-name-f7bc3c53-41e1-42fa-ab3f-0e15ba9f3094\n"
     ]
    },
    {
     "name": "stdout",
     "output_type": "stream",
     "text": [
      "Epoch 1/1, train loss: 2.2769, train metric: 0.1471, valid metric: 0.1862\n",
      "Epoch 1/1, train loss: 2.2093, train metric: 0.2794, valid metric: 0.3500\n",
      "Epoch 1/1, train loss: 2.1164, train metric: 0.4110, valid metric: 0.4556\n",
      "Epoch 1/1, train loss: 1.9776, train metric: 0.5137, valid metric: 0.5560\n",
      "Epoch 1/1, train loss: 1.7867, train metric: 0.5826, valid metric: 0.6026\n",
      "Epoch 1/1, train loss: 1.5775, train metric: 0.6184, valid metric: 0.6228\n",
      "Epoch 1/1, train loss: 1.3978, train metric: 0.6288, valid metric: 0.6326\n",
      "Epoch 1/1, train loss: 1.2605, train metric: 0.6360, valid metric: 0.6372\n",
      "Epoch 1/1, train loss: 1.1572, train metric: 0.6467, valid metric: 0.6424\n",
      "Epoch 1/1, train loss: 1.0782, train metric: 0.6537, valid metric: 0.6436\n",
      "Epoch 1/1, train loss: 1.0162, train metric: 0.6611, valid metric: 0.6530\n",
      "Epoch 1/1, train loss: 0.9665, train metric: 0.6689, valid metric: 0.6620\n",
      "Epoch 1/1, train loss: 0.9258, train metric: 0.6761, valid metric: 0.6700\n",
      "Epoch 1/1, train loss: 0.8919, train metric: 0.6835, valid metric: 0.6782\n",
      "Epoch 1/1, train loss: 0.8629, train metric: 0.6897, valid metric: 0.6848\n",
      "Epoch 1/1, train loss: 0.8381, train metric: 0.6954, valid metric: 0.6876\n",
      "Epoch 1/1, train loss: 0.8166, train metric: 0.7009, valid metric: 0.6932\n",
      "Epoch 1/1, train loss: 0.7974, train metric: 0.7073, valid metric: 0.6964\n",
      "Epoch 1/1, train loss: 0.7802, train metric: 0.7119, valid metric: 0.7090\n"
     ]
    },
    {
     "name": "stderr",
     "output_type": "stream",
     "text": [
      "[I 2025-01-14 17:07:00,571] Trial 0 finished with value: 0.7089999914169312 and parameters: {'learning_rate': 0.00031489116479568613, 'n_hidden': 287}. Best is trial 0 with value: 0.7089999914169312.\n"
     ]
    },
    {
     "name": "stdout",
     "output_type": "stream",
     "text": [
      "Epoch 1/1, train loss: 0.7647, train metric: 0.7196, valid metric: 0.7082\n",
      "Epoch 1/1, train loss: 1.1485, train metric: 0.6157, valid metric: 0.7332\n",
      "Epoch 1/1, train loss: 0.6133, train metric: 0.7864, valid metric: 0.8082\n",
      "Epoch 1/1, train loss: 0.5200, train metric: 0.8179, valid metric: 0.8136\n",
      "Epoch 1/1, train loss: 0.4783, train metric: 0.8310, valid metric: 0.8232\n",
      "Epoch 1/1, train loss: 0.4533, train metric: 0.8401, valid metric: 0.8024\n",
      "Epoch 1/1, train loss: 0.4357, train metric: 0.8465, valid metric: 0.8448\n",
      "Epoch 1/1, train loss: 0.4210, train metric: 0.8510, valid metric: 0.8280\n",
      "Epoch 1/1, train loss: 0.4083, train metric: 0.8562, valid metric: 0.8400\n",
      "Epoch 1/1, train loss: 0.3982, train metric: 0.8605, valid metric: 0.8528\n",
      "Epoch 1/1, train loss: 0.3882, train metric: 0.8638, valid metric: 0.8584\n",
      "Epoch 1/1, train loss: 0.3782, train metric: 0.8662, valid metric: 0.8544\n",
      "Epoch 1/1, train loss: 0.3698, train metric: 0.8697, valid metric: 0.8568\n",
      "Epoch 1/1, train loss: 0.3630, train metric: 0.8709, valid metric: 0.8574\n",
      "<<221 more lines>>\n",
      "Epoch 1/1, train loss: 0.2596, train metric: 0.9018, valid metric: 0.8724\n",
      "Epoch 1/1, train loss: 0.2499, train metric: 0.9057, valid metric: 0.8762\n",
      "Epoch 1/1, train loss: 0.2443, train metric: 0.9089, valid metric: 0.8778\n",
      "Epoch 1/1, train loss: 0.2342, train metric: 0.9108, valid metric: 0.8828\n",
      "Epoch 1/1, train loss: 0.2287, train metric: 0.9137, valid metric: 0.8854\n",
      "Epoch 1/1, train loss: 0.2226, train metric: 0.9152, valid metric: 0.8806\n",
      "Epoch 1/1, train loss: 0.2158, train metric: 0.9182, valid metric: 0.8864\n",
      "Epoch 1/1, train loss: 0.2122, train metric: 0.9187, valid metric: 0.8846\n",
      "Epoch 1/1, train loss: 0.2047, train metric: 0.9216, valid metric: 0.8854\n",
      "Epoch 1/1, train loss: 0.1990, train metric: 0.9244, valid metric: 0.8824\n"
     ]
    },
    {
     "name": "stderr",
     "output_type": "stream",
     "text": [
      "[I 2025-01-14 18:34:58,552] Trial 17 finished with value: 0.8863999843597412 and parameters: {'learning_rate': 0.09698333459975128, 'n_hidden': 144}. Best is trial 16 with value: 0.8876000046730042.\n"
     ]
    },
    {
     "name": "stdout",
     "output_type": "stream",
     "text": [
      "Epoch 1/1, train loss: 0.1926, train metric: 0.9275, valid metric: 0.8782\n"
     ]
    },
    {
     "name": "stderr",
     "output_type": "stream",
     "text": [
      "[I 2025-01-14 18:35:20,999] Trial 18 pruned. \n"
     ]
    },
    {
     "name": "stdout",
     "output_type": "stream",
     "text": [
      "Epoch 1/1, train loss: 1.8006, train metric: 0.4596, valid metric: 0.6052\n",
      "Epoch 1/1, train loss: 0.7267, train metric: 0.7428, valid metric: 0.8252\n",
      "Epoch 1/1, train loss: 0.4577, train metric: 0.8354, valid metric: 0.8460\n",
      "Epoch 1/1, train loss: 0.4045, train metric: 0.8533, valid metric: 0.8550\n",
      "Epoch 1/1, train loss: 0.3741, train metric: 0.8649, valid metric: 0.8484\n",
      "Epoch 1/1, train loss: 0.3520, train metric: 0.8707, valid metric: 0.8610\n",
      "Epoch 1/1, train loss: 0.3351, train metric: 0.8779, valid metric: 0.8748\n",
      "Epoch 1/1, train loss: 0.3189, train metric: 0.8824, valid metric: 0.8710\n",
      "Epoch 1/1, train loss: 0.3072, train metric: 0.8864, valid metric: 0.8710\n",
      "Epoch 1/1, train loss: 0.2954, train metric: 0.8899, valid metric: 0.8752\n",
      "Epoch 1/1, train loss: 0.2852, train metric: 0.8950, valid metric: 0.8802\n",
      "Epoch 1/1, train loss: 0.2765, train metric: 0.8964, valid metric: 0.8804\n",
      "Epoch 1/1, train loss: 0.2692, train metric: 0.8989, valid metric: 0.8770\n",
      "Epoch 1/1, train loss: 0.2602, train metric: 0.9041, valid metric: 0.8788\n",
      "Epoch 1/1, train loss: 0.2523, train metric: 0.9066, valid metric: 0.8826\n",
      "Epoch 1/1, train loss: 0.2462, train metric: 0.9086, valid metric: 0.8886\n",
      "Epoch 1/1, train loss: 0.2383, train metric: 0.9118, valid metric: 0.8778\n",
      "Epoch 1/1, train loss: 0.2340, train metric: 0.9124, valid metric: 0.8814\n",
      "Epoch 1/1, train loss: 0.2271, train metric: 0.9146, valid metric: 0.8908\n",
      "Epoch 1/1, train loss: 0.2201, train metric: 0.9184, valid metric: 0.8874\n"
     ]
    },
    {
     "name": "stderr",
     "output_type": "stream",
     "text": [
      "[I 2025-01-14 18:42:57,800] Trial 19 finished with value: 0.8907999992370605 and parameters: {'learning_rate': 0.03509224713892104, 'n_hidden': 235}. Best is trial 19 with value: 0.8907999992370605.\n"
     ]
    },
    {
     "name": "stdout",
     "output_type": "stream",
     "text": [
      "Epoch 1/1, train loss: 0.2150, train metric: 0.9199, valid metric: 0.8864\n"
     ]
    }
   ],
   "source": [
    "torch.manual_seed(42)\n",
    "sampler = optuna.samplers.TPESampler(seed=42)\n",
    "pruner = optuna.pruners.MedianPruner()\n",
    "study = optuna.create_study(direction=\"maximize\", sampler=sampler,\n",
    "                            pruner=pruner)\n",
    "study.optimize(objective_with_data, n_trials=20)"
   ]
  },
  {
   "cell_type": "code",
   "execution_count": 105,
   "metadata": {},
   "outputs": [
    {
     "data": {
      "text/plain": [
       "0.8907999992370605"
      ]
     },
     "execution_count": 105,
     "metadata": {},
     "output_type": "execute_result"
    }
   ],
   "source": [
    "study.best_value"
   ]
  },
  {
   "cell_type": "code",
   "execution_count": 106,
   "metadata": {},
   "outputs": [
    {
     "data": {
      "text/plain": [
       "{'learning_rate': 0.03509224713892104, 'n_hidden': 235}"
      ]
     },
     "execution_count": 106,
     "metadata": {},
     "output_type": "execute_result"
    }
   ],
   "source": [
    "study.best_params"
   ]
  },
  {
   "cell_type": "markdown",
   "metadata": {},
   "source": [
    "# Saving and Loading a PyTorch Model"
   ]
  },
  {
   "cell_type": "code",
   "execution_count": 107,
   "metadata": {},
   "outputs": [],
   "source": [
    "torch.save(model, \"my_fashion_mnist.pt\")"
   ]
  },
  {
   "cell_type": "code",
   "execution_count": 108,
   "metadata": {},
   "outputs": [],
   "source": [
    "loaded_model = torch.load(\"my_fashion_mnist.pt\", weights_only=False)"
   ]
  },
  {
   "cell_type": "code",
   "execution_count": 109,
   "metadata": {},
   "outputs": [],
   "source": [
    "loaded_model.eval()\n",
    "y_pred_logits = loaded_model(X_new)"
   ]
  },
  {
   "cell_type": "code",
   "execution_count": 110,
   "metadata": {},
   "outputs": [],
   "source": [
    "torch.save(model.state_dict(), \"my_fashion_mnist_weights.pt\")"
   ]
  },
  {
   "cell_type": "code",
   "execution_count": 111,
   "metadata": {},
   "outputs": [
    {
     "data": {
      "text/plain": [
       "collections.OrderedDict"
      ]
     },
     "execution_count": 111,
     "metadata": {},
     "output_type": "execute_result"
    }
   ],
   "source": [
    "type(model.state_dict())"
   ]
  },
  {
   "cell_type": "code",
   "execution_count": 112,
   "metadata": {},
   "outputs": [
    {
     "data": {
      "text/plain": [
       "<All keys matched successfully>"
      ]
     },
     "execution_count": 112,
     "metadata": {},
     "output_type": "execute_result"
    }
   ],
   "source": [
    "new_model = ImageClassifier(n_inputs=1 * 28 * 28, n_hidden1=300, n_hidden2=100,\n",
    "                            n_classes=10)\n",
    "loaded_weights = torch.load(\"my_fashion_mnist_weights.pt\", weights_only=True)\n",
    "new_model.load_state_dict(loaded_weights)\n",
    "new_model.eval()"
   ]
  },
  {
   "cell_type": "code",
   "execution_count": 113,
   "metadata": {},
   "outputs": [],
   "source": [
    "model_data = {\n",
    "    \"model_state_dict\": model.state_dict(),\n",
    "    \"model_hyperparameters\": {\n",
    "        \"n_inputs\": 1 * 28 * 28,\n",
    "        \"n_hidden1\": 300,\n",
    "        \"n_hidden2\": 100,\n",
    "        \"n_classes\": 10,\n",
    "    }\n",
    "}\n",
    "torch.save(model_data, \"my_fashion_mnist_model.pt\")"
   ]
  },
  {
   "cell_type": "code",
   "execution_count": 114,
   "metadata": {},
   "outputs": [
    {
     "data": {
      "text/plain": [
       "ImageClassifier(\n",
       "  (mlp): Sequential(\n",
       "    (0): Flatten(start_dim=1, end_dim=-1)\n",
       "    (1): Linear(in_features=784, out_features=300, bias=True)\n",
       "    (2): ReLU()\n",
       "    (3): Linear(in_features=300, out_features=100, bias=True)\n",
       "    (4): ReLU()\n",
       "    (5): Linear(in_features=100, out_features=10, bias=True)\n",
       "  )\n",
       ")"
      ]
     },
     "execution_count": 114,
     "metadata": {},
     "output_type": "execute_result"
    }
   ],
   "source": [
    "loaded_data = torch.load(\"my_fashion_mnist_model.pt\", weights_only=True)\n",
    "new_model = ImageClassifier(**loaded_data[\"model_hyperparameters\"])\n",
    "new_model.load_state_dict(loaded_data[\"model_state_dict\"])\n",
    "new_model.eval()"
   ]
  },
  {
   "cell_type": "markdown",
   "metadata": {},
   "source": [
    "# Compiling and Optimizing a PyTorch Model"
   ]
  },
  {
   "cell_type": "code",
   "execution_count": 115,
   "metadata": {},
   "outputs": [],
   "source": [
    "torchscript_model = torch.jit.trace(model, X_new)"
   ]
  },
  {
   "cell_type": "code",
   "execution_count": 116,
   "metadata": {},
   "outputs": [],
   "source": [
    "torchscript_model = torch.jit.script(model)"
   ]
  },
  {
   "cell_type": "code",
   "execution_count": 117,
   "metadata": {},
   "outputs": [],
   "source": [
    "optimized_model = torch.jit.optimize_for_inference(torchscript_model)"
   ]
  },
  {
   "cell_type": "code",
   "execution_count": 118,
   "metadata": {},
   "outputs": [],
   "source": [
    "optimized_model.save(\"my_fashion_mnist_torchscript.pt\")"
   ]
  },
  {
   "cell_type": "code",
   "execution_count": 119,
   "metadata": {},
   "outputs": [],
   "source": [
    "loaded_torchscript_model = torch.jit.load(\"my_fashion_mnist_torchscript.pt\")"
   ]
  },
  {
   "cell_type": "code",
   "execution_count": 120,
   "metadata": {},
   "outputs": [
    {
     "data": {
      "text/plain": [
       "tensor([[-6.8625,  1.7672, -3.0974, -2.2067, -3.1644,  0.7036, -5.0993, 13.9961,\n",
       "         -3.2647,  7.7627],\n",
       "        [-2.0537, -0.0509,  9.4781,  0.3942, 14.8989, -9.3567,  5.8201, -8.3479,\n",
       "         -4.5794, -6.9351],\n",
       "        [-1.5363, -4.3251,  8.1746, -0.5483,  3.9881, -2.2415,  5.3069, -2.3923,\n",
       "         -2.6241, -3.5251]], device='mps:0')"
      ]
     },
     "execution_count": 120,
     "metadata": {},
     "output_type": "execute_result"
    }
   ],
   "source": [
    "y_pred_logits = loaded_torchscript_model(X_new)\n",
    "y_pred_logits"
   ]
  },
  {
   "cell_type": "code",
   "execution_count": 121,
   "metadata": {},
   "outputs": [],
   "source": [
    "compiled_model = torch.compile(model)"
   ]
  },
  {
   "cell_type": "code",
   "execution_count": 122,
   "metadata": {},
   "outputs": [],
   "source": [
    "if device == \"cuda\":\n",
    "    y_pred_logits = compiled_model(X_new)"
   ]
  },
  {
   "cell_type": "markdown",
   "metadata": {},
   "source": [
    "# Exercise solutions"
   ]
  },
  {
   "cell_type": "markdown",
   "metadata": {},
   "source": [
    "**Work in progress**\n",
    "\n",
    "If you would like to contribute a solution for an exercise, please submit a Pull Request, that would be greatly appreciated. Please aim for simple & flat code with as little boilerplate as possible: optimize for readability rather than efficiency."
   ]
  },
  {
   "cell_type": "code",
   "execution_count": null,
   "metadata": {},
   "outputs": [],
   "source": []
  }
 ],
 "metadata": {
  "kernelspec": {
   "display_name": "Python 3",
   "language": "python",
   "name": "python3"
  },
  "language_info": {
   "codemirror_mode": {
    "name": "ipython",
    "version": 3
   },
   "file_extension": ".py",
   "mimetype": "text/x-python",
   "name": "python",
   "nbconvert_exporter": "python",
   "pygments_lexer": "ipython3",
   "version": "3.9.10"
  },
  "nav_menu": {
   "height": "264px",
   "width": "369px"
  },
  "toc": {
   "navigate_menu": true,
   "number_sections": true,
   "sideBar": true,
   "threshold": 6,
   "toc_cell": false,
   "toc_section_display": "block",
   "toc_window_display": false
  }
 },
 "nbformat": 4,
 "nbformat_minor": 4
}
